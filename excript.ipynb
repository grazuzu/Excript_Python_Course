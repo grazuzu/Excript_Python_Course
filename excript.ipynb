{
 "cells": [
  {
   "cell_type": "markdown",
   "metadata": {},
   "source": [
    "# **Curso Básico de Python**"
   ]
  },
  {
   "cell_type": "markdown",
   "metadata": {},
   "source": [
    "## fonte **http://excript.com/**"
   ]
  },
  {
   "cell_type": "markdown",
   "metadata": {},
   "source": [
    "## **Comentários**"
   ]
  },
  {
   "cell_type": "code",
   "execution_count": 1,
   "metadata": {},
   "outputs": [
    {
     "name": "stdout",
     "output_type": "stream",
     "text": [
      "hello everynyan\n",
      "whatever\n"
     ]
    },
    {
     "data": {
      "text/plain": [
       "' para comentários \\nde muitas linhas'"
      ]
     },
     "execution_count": 1,
     "metadata": {},
     "output_type": "execute_result"
    }
   ],
   "source": [
    "print(\"hello everynyan\") #comentários auxiliam na comunicação do código\n",
    "print('whatever')\n",
    "''' para comentários \n",
    "de muitas linhas'''"
   ]
  },
  {
   "cell_type": "code",
   "execution_count": 2,
   "metadata": {},
   "outputs": [
    {
     "name": "stdout",
     "output_type": "stream",
     "text": [
      "helló\n"
     ]
    }
   ],
   "source": [
    "#erros de sintaxe : acentuação etc que não são entendidos pelo python\n",
    "\n",
    "# -*- coding: utf-8 -*-\n",
    "print(\"helló\") #uso do acento "
   ]
  },
  {
   "cell_type": "markdown",
   "metadata": {},
   "source": [
    "## **Tipos de variáveis**"
   ]
  },
  {
   "cell_type": "markdown",
   "metadata": {},
   "source": [
    "### tipos de variaveis\n",
    "### inteira = 45 - int\n",
    "### número flutuante = 12.756 - float\n",
    "### string = \"ola\"\n",
    "### booleana = verdadeira ou falsa"
   ]
  },
  {
   "cell_type": "markdown",
   "metadata": {},
   "source": [
    "## **Tipos de dados**"
   ]
  },
  {
   "cell_type": "code",
   "execution_count": 69,
   "metadata": {},
   "outputs": [
    {
     "name": "stdout",
     "output_type": "stream",
     "text": [
      "o valor é: 1.5\n",
      "o valor é: 5\n",
      "o valor é: 5\n"
     ]
    }
   ],
   "source": [
    "num_int = 5\n",
    "num_dec = 1.5\n",
    "val_str = \"qualquer texto\"\n",
    "print(\"o valor é:\", num_dec)\n",
    "print(\"o valor é: %i\" % num_int)\n",
    "print(\"o valor é: \" + str(num_int))  # conversão da variavel int em string"
   ]
  },
  {
   "cell_type": "markdown",
   "metadata": {},
   "source": [
    "## **Ponto flutuante e precisão de um número**"
   ]
  },
  {
   "cell_type": "code",
   "execution_count": 21,
   "metadata": {},
   "outputs": [
    {
     "name": "stdout",
     "output_type": "stream",
     "text": [
      "Concatenando decimal: 5.7\n",
      "Concatenando decimal:5.7000000000\n",
      "Concatenando decimal:5.7\n",
      "Concatenando string: qualquer texto\n",
      "Concatenando string:qualquer texto\n",
      "Concatenando string:qualquer texto\n"
     ]
    }
   ],
   "source": [
    "num_dec = 5.7\n",
    "print(\"Concatenando decimal:\", num_dec)\n",
    "print(\"Concatenando decimal:%.10f\" %num_dec) # %.numero_de_casa_decimais\n",
    "print(\"Concatenando decimal:\" + str(num_dec)) #não é possível trabalhar com duas instâncias diferentes, deve-se fazer a conversão\n",
    "\n",
    "print(\"Concatenando string:\", val_str)\n",
    "print(\"Concatenando string:%s\" %val_str)\n",
    "print(\"Concatenando string:\" + val_str)\n"
   ]
  },
  {
   "cell_type": "markdown",
   "metadata": {},
   "source": [
    "### *declarar uma variavel = armazenar a variavel na memória"
   ]
  },
  {
   "cell_type": "markdown",
   "metadata": {},
   "source": [
    "## **Operadores Relacionais**"
   ]
  },
  {
   "cell_type": "markdown",
   "metadata": {},
   "source": [
    "    Não é código! Dessa forma fica mais visível"
   ]
  },
  {
   "cell_type": "code",
   "execution_count": null,
   "metadata": {},
   "outputs": [],
   "source": [
    "== igual\n",
    "!= diferente \n",
    "\n",
    "> maior\n",
    ">= maior igual\n",
    "< menor\n",
    "<= menor igual"
   ]
  },
  {
   "cell_type": "markdown",
   "metadata": {},
   "source": [
    "## **Operadores comparativos**"
   ]
  },
  {
   "cell_type": "markdown",
   "metadata": {},
   "source": [
    "<img src=\"images/comp.png\" alt=\"Fluxograma tomada de decisões comparativas\"/>"
   ]
  },
  {
   "cell_type": "code",
   "execution_count": 54,
   "metadata": {},
   "outputs": [
    {
     "name": "stdout",
     "output_type": "stream",
     "text": [
      "sua idade não pode ser 0 ou menor que 0\n"
     ]
    }
   ],
   "source": [
    "idade = int(input(\"sua idade: \"))\n",
    "if(idade <= 0):\n",
    "  print(\"sua idade não pode ser 0 ou menor que 0\")\n",
    "else:\n",
    "  if(idade > 150):\n",
    "    print(\"sua idade não pode ser maior ou igual a 150\")\n",
    "  else:\n",
    "    if(idade < 18):\n",
    "      print(\"você precisa ter mais que 18\")"
   ]
  },
  {
   "cell_type": "markdown",
   "metadata": {},
   "source": [
    "## **Operadores Lógicos**\n"
   ]
  },
  {
   "cell_type": "markdown",
   "metadata": {},
   "source": [
    "### **AND** duas condições verdadeiras\n",
    "### **OR** pelo menos uma condição verdadeira\n",
    "### **NOT** inverte o valor\n",
    "### **IS** é\n",
    "### **IS NOT** não é \n",
    "### **IN** está contido\n",
    "### **NOT IN** não está contido"
   ]
  },
  {
   "cell_type": "code",
   "execution_count": 62,
   "metadata": {},
   "outputs": [
    {
     "name": "stdout",
     "output_type": "stream",
     "text": [
      "False\n",
      "True\n",
      "False\n",
      "<class 'float'>\n",
      "False\n"
     ]
    }
   ],
   "source": [
    "x = 3\n",
    "y = 3\n",
    "z = 5\n",
    "\n",
    "print(x == y and x == z)\n",
    "\n",
    "print(x == y or x == z and z == y)\n",
    "\n",
    "print(not(2>4 or 2<4))\n",
    "\n",
    "print(type(2.0))\n",
    "print(type(2.0)is int)"
   ]
  },
  {
   "cell_type": "markdown",
   "metadata": {},
   "source": [
    "## **Comando Condicionais**"
   ]
  },
  {
   "cell_type": "markdown",
   "metadata": {},
   "source": [
    "### if condição\n",
    "###   execute_esta_linha\n",
    "\n",
    "### else #executado caso if não seja verdadeiro\n",
    "###\t  caso_if_falhe_execute_essa_linha"
   ]
  },
  {
   "cell_type": "markdown",
   "metadata": {},
   "source": [
    "<img src=\"images/decision.png\" alt=\"Fluxograma tomada de decisões\"/>"
   ]
  },
  {
   "cell_type": "code",
   "execution_count": 7,
   "metadata": {},
   "outputs": [
    {
     "name": "stdout",
     "output_type": "stream",
     "text": [
      "Error\n"
     ]
    }
   ],
   "source": [
    "x = -1\n",
    "y = 1000\n",
    "if x >= y:\n",
    "\tprint(\"x maior que y\")\n",
    "\n",
    "#if y > x:\n",
    "#\tprint(\"y maior que x\")\n",
    "\n",
    "else:\n",
    "\t\tprint(\"Error\")"
   ]
  },
  {
   "cell_type": "markdown",
   "metadata": {},
   "source": [
    "## **Depuração**"
   ]
  },
  {
   "cell_type": "markdown",
   "metadata": {},
   "source": [
    "### entender o funcionamento de um determinado código\n",
    "### descobrir erros"
   ]
  },
  {
   "cell_type": "markdown",
   "metadata": {},
   "source": [
    "## **Comando elif**"
   ]
  },
  {
   "cell_type": "markdown",
   "metadata": {},
   "source": [
    "### caso tenha mais de um if else"
   ]
  },
  {
   "cell_type": "code",
   "execution_count": 10,
   "metadata": {},
   "outputs": [
    {
     "name": "stdout",
     "output_type": "stream",
     "text": [
      "y maior que x\n"
     ]
    }
   ],
   "source": [
    "x = 1 \n",
    "y = 2\n",
    "if x == y:\n",
    "\tprint(\"numeros iguais\")\n",
    "elif y > x:\n",
    "\tprint(\"y maior que x\") #executa a primeira condição verdadeira que aparecer\n",
    "else:\n",
    "\tprint(\"numeros diferentes\")"
   ]
  },
  {
   "cell_type": "code",
   "execution_count": 55,
   "metadata": {},
   "outputs": [
    {
     "name": "stdout",
     "output_type": "stream",
     "text": [
      "você precisa ter mais que 18\n"
     ]
    }
   ],
   "source": [
    "idade = int(input(\"sua idade: \"))\n",
    "if(idade <= 0):\n",
    "  print(\"sua idade não pode ser 0 ou menor que 0\")\n",
    "elif(idade > 150):\n",
    "  print(\"sua idade não pode ser maior ou igual a 150\")\n",
    "elif(idade < 18):\n",
    "  print(\"você precisa ter mais que 18\")"
   ]
  },
  {
   "cell_type": "code",
   "execution_count": 45,
   "metadata": {},
   "outputs": [
    {
     "name": "stdout",
     "output_type": "stream",
     "text": [
      "o número digitado não corresponde a '1' nem '2'!\n"
     ]
    }
   ],
   "source": [
    "acao = int(input(\"digite '1' para sim e '2' para não: \"))\n",
    "if(acao==1):\n",
    "  print(\"você disse sim\")\n",
    "else:\n",
    "  if(acao==2):\n",
    "    print(\"você disse não\")\n",
    "  else:\n",
    "    print(\"o número digitado não corresponde a '1' nem '2'!\")"
   ]
  },
  {
   "cell_type": "markdown",
   "metadata": {},
   "source": [
    "## **Comando switch**\n",
    "### **No Python não temos o switch, porém, podemos implementar algo parecido usando dicionários.**"
   ]
  },
  {
   "cell_type": "markdown",
   "metadata": {},
   "source": [
    "### switch(valor)\n",
    "  ### caso 1: façaIsso()\n",
    "  ### caso 2: façaAquilo()\n",
    "  ### caso 3: façaIssoEAquilo()"
   ]
  },
  {
   "cell_type": "code",
   "execution_count": 49,
   "metadata": {},
   "outputs": [
    {
     "name": "stdout",
     "output_type": "stream",
     "text": [
      "Opção inválida.\n"
     ]
    }
   ],
   "source": [
    "def meu_switch(opcao):\n",
    "    opcoes = {\n",
    "        0: \"Você escolheu zero\",\n",
    "        1: \"Você escolheu 1\",\n",
    "        2: \"Você escolheu 2\",\n",
    "    }\n",
    "    return opcoes.get(opcao, \"Opção inválida.\")\n",
    "\n",
    "if __name__ == \"__main__\":\n",
    "    opcao = int(input(\"Informe um número de 0 a 2: \"))\n",
    "    print (meu_switch(opcao))"
   ]
  },
  {
   "cell_type": "markdown",
   "metadata": {},
   "source": [
    "### **Em Java e C, a estrutura switch é dada como:**"
   ]
  },
  {
   "cell_type": "markdown",
   "metadata": {},
   "source": [
    "    Não é código! Dessa forma fica mais visível"
   ]
  },
  {
   "cell_type": "code",
   "execution_count": null,
   "metadata": {},
   "outputs": [],
   "source": [
    "switch(variável)\n",
    "{\n",
    "    case constante1:\n",
    "        instruções;\n",
    "        break;\n",
    "    case constante2:\n",
    "        instruções;\n",
    "        break;\n",
    "    case constante3:\n",
    "        instruções;\n",
    "        break;\n",
    "    default:\n",
    "        instruções caso nenhuma opção tenha sido escolhida;\n",
    "}"
   ]
  },
  {
   "cell_type": "markdown",
   "metadata": {},
   "source": [
    "## **Laços de repetição**"
   ]
  },
  {
   "cell_type": "markdown",
   "metadata": {},
   "source": [
    "### repete um conjunto de códigos inteiros enquanto uma condição predeterminada for verdadeira\n",
    "### while = enquanto \n",
    "### iterar = repetir"
   ]
  },
  {
   "cell_type": "code",
   "execution_count": 13,
   "metadata": {},
   "outputs": [
    {
     "name": "stdout",
     "output_type": "stream",
     "text": [
      "1\n"
     ]
    }
   ],
   "source": [
    "x = 1\n",
    "while x < 10:\n",
    "\tprint(x)\n",
    "\t#x = x + 1\n",
    "\t#x += 1 #mesmo que x = x + 1\n",
    "\tx = 10"
   ]
  },
  {
   "cell_type": "markdown",
   "metadata": {},
   "source": [
    "## **Laço for** "
   ]
  },
  {
   "cell_type": "markdown",
   "metadata": {},
   "source": [
    "### para varrer um conjunto/lista de elementos\n",
    "### listas: sequencia de numeros ou caracteres "
   ]
  },
  {
   "cell_type": "code",
   "execution_count": 14,
   "metadata": {},
   "outputs": [
    {
     "name": "stdout",
     "output_type": "stream",
     "text": [
      "1\n",
      "2\n",
      "3\n",
      "4\n",
      "5\n",
      "hELLO\n",
      "evERYNYAN\n",
      "0\n",
      "hallu\n",
      "9.99\n",
      "True\n"
     ]
    }
   ],
   "source": [
    "lista1 = [1, 2, 3, 4, 5]\n",
    "lista2 = [\"hELLO\", \"evERYNYAN\"] \n",
    "lista3 = [0, \"hallu\", 9.99, True]\n",
    "\n",
    "for i in lista1:\n",
    "\tprint(i)\n",
    "\n",
    "for i in lista2:\n",
    "\tprint(i)\n",
    "\n",
    "for i in lista3:\n",
    "\tprint(i)"
   ]
  },
  {
   "cell_type": "markdown",
   "metadata": {},
   "source": [
    "## **Função range** "
   ]
  },
  {
   "cell_type": "markdown",
   "metadata": {},
   "source": [
    "### retorna uma lista"
   ]
  },
  {
   "cell_type": "code",
   "execution_count": 15,
   "metadata": {},
   "outputs": [
    {
     "name": "stdout",
     "output_type": "stream",
     "text": [
      "10\n",
      "12\n",
      "14\n",
      "16\n",
      "18\n"
     ]
    }
   ],
   "source": [
    "for i in range(10,20,2): #de 10 até 20-1, de 2 em dois elementos\n",
    "\tprint(i)"
   ]
  },
  {
   "cell_type": "markdown",
   "metadata": {},
   "source": [
    "## **Input**"
   ]
  },
  {
   "cell_type": "markdown",
   "metadata": {},
   "source": [
    "### Entrada de dados\n",
    "### recebe dados enviados pelo usuário para o programa (interação entre usuario e programa)"
   ]
  },
  {
   "cell_type": "code",
   "execution_count": 16,
   "metadata": {},
   "outputs": [
    {
     "name": "stdout",
     "output_type": "stream",
     "text": [
      "O numero digitado eh:\n",
      "5\n"
     ]
    }
   ],
   "source": [
    "numero = input(\"Digite um numero:\")\n",
    "print(\"O numero digitado eh:\")\n",
    "print(numero)"
   ]
  },
  {
   "cell_type": "code",
   "execution_count": 24,
   "metadata": {},
   "outputs": [
    {
     "name": "stdout",
     "output_type": "stream",
     "text": [
      "O usuário informado foi:yay, e a senha foi: 1234\n"
     ]
    }
   ],
   "source": [
    "login = input(\"Login:\")\n",
    "senha = input(\"Senha:\")\n",
    "print(\"O usuário informado foi:%s, e a senha foi: %s\" %(login, senha))"
   ]
  },
  {
   "cell_type": "markdown",
   "metadata": {},
   "source": [
    "## **Operações Matemáticas**"
   ]
  },
  {
   "cell_type": "code",
   "execution_count": 26,
   "metadata": {},
   "outputs": [
    {
     "name": "stdout",
     "output_type": "stream",
     "text": [
      "1.6666666666666667\n",
      "1\n"
     ]
    }
   ],
   "source": [
    "print(10/6)\n",
    "print (10//6) #retira as casas decimais do resultado da divisão e retorna int"
   ]
  },
  {
   "cell_type": "code",
   "execution_count": 30,
   "metadata": {},
   "outputs": [
    {
     "name": "stdout",
     "output_type": "stream",
     "text": [
      "1\n",
      "0\n",
      "True\n"
     ]
    }
   ],
   "source": [
    "print(5%2)\n",
    "print(6%2) #o simbolo de % é o resultado do resto da divisão\n",
    "\n",
    "print(900%100==0)"
   ]
  },
  {
   "cell_type": "code",
   "execution_count": 34,
   "metadata": {},
   "outputs": [
    {
     "name": "stdout",
     "output_type": "stream",
     "text": [
      "2.0 dividido por 5.0 é igual a: 0.4\n",
      "o resto da divisão entre 2.0 e 5.0 é igual a: 2.0\n"
     ]
    }
   ],
   "source": [
    "num1 = float(input(\"Digite o número: \"))\n",
    "num2 = float(input(\"Digite o número: \"))\n",
    "\n",
    "divisao = num1 / num2\n",
    "rest = num1 % num2\n",
    "\n",
    "print (num1, \"dividido por\", num2, \"é igual a:\", divisao)\n",
    "print (\"o resto da divisão entre\",num1, \"e\", num2, \"é igual a:\", rest)"
   ]
  },
  {
   "cell_type": "markdown",
   "metadata": {},
   "source": [
    "### Potenciação e Radiciação"
   ]
  },
  {
   "cell_type": "code",
   "execution_count": 40,
   "metadata": {},
   "outputs": [
    {
     "name": "stdout",
     "output_type": "stream",
     "text": [
      "4\n",
      "1\n",
      "729\n",
      "8.999999999999998\n"
     ]
    }
   ],
   "source": [
    "print(2**2) #exponencial 2 elevado a 2\n",
    "print(10 % 3) #módulo: retorna o resto da divisão\n",
    "\n",
    "n = 9**3\n",
    "print(n)\n",
    "print(n**(1/3))"
   ]
  },
  {
   "cell_type": "markdown",
   "metadata": {},
   "source": [
    "## **Biblioteca math**"
   ]
  },
  {
   "cell_type": "code",
   "execution_count": 41,
   "metadata": {},
   "outputs": [
    {
     "data": {
      "text/plain": [
       "['__doc__',\n",
       " '__file__',\n",
       " '__loader__',\n",
       " '__name__',\n",
       " '__package__',\n",
       " '__spec__',\n",
       " 'acos',\n",
       " 'acosh',\n",
       " 'asin',\n",
       " 'asinh',\n",
       " 'atan',\n",
       " 'atan2',\n",
       " 'atanh',\n",
       " 'ceil',\n",
       " 'comb',\n",
       " 'copysign',\n",
       " 'cos',\n",
       " 'cosh',\n",
       " 'degrees',\n",
       " 'dist',\n",
       " 'e',\n",
       " 'erf',\n",
       " 'erfc',\n",
       " 'exp',\n",
       " 'expm1',\n",
       " 'fabs',\n",
       " 'factorial',\n",
       " 'floor',\n",
       " 'fmod',\n",
       " 'frexp',\n",
       " 'fsum',\n",
       " 'gamma',\n",
       " 'gcd',\n",
       " 'hypot',\n",
       " 'inf',\n",
       " 'isclose',\n",
       " 'isfinite',\n",
       " 'isinf',\n",
       " 'isnan',\n",
       " 'isqrt',\n",
       " 'ldexp',\n",
       " 'lgamma',\n",
       " 'log',\n",
       " 'log10',\n",
       " 'log1p',\n",
       " 'log2',\n",
       " 'modf',\n",
       " 'nan',\n",
       " 'perm',\n",
       " 'pi',\n",
       " 'pow',\n",
       " 'prod',\n",
       " 'radians',\n",
       " 'remainder',\n",
       " 'sin',\n",
       " 'sinh',\n",
       " 'sqrt',\n",
       " 'tan',\n",
       " 'tanh',\n",
       " 'tau',\n",
       " 'trunc']"
      ]
     },
     "execution_count": 41,
     "metadata": {},
     "output_type": "execute_result"
    }
   ],
   "source": [
    "import math\n",
    "dir(math)"
   ]
  },
  {
   "cell_type": "code",
   "execution_count": 42,
   "metadata": {},
   "outputs": [
    {
     "data": {
      "text/plain": [
       "3.141592653589793"
      ]
     },
     "execution_count": 42,
     "metadata": {},
     "output_type": "execute_result"
    }
   ],
   "source": [
    "math.pi"
   ]
  },
  {
   "cell_type": "markdown",
   "metadata": {},
   "source": [
    "## **Bloco de instrução**"
   ]
  },
  {
   "cell_type": "markdown",
   "metadata": {},
   "source": [
    "### conjunto de instruções que serão executadas uma após a outra\n",
    "### se definirmos uma variável dentro de um bloco, ela não poderá ser acessada fora desse bloco"
   ]
  },
  {
   "cell_type": "code",
   "execution_count": 68,
   "metadata": {},
   "outputs": [
    {
     "name": "stdout",
     "output_type": "stream",
     "text": [
      "imprime ae\n",
      "imprime um texto1\n",
      "imprime um texto2\n",
      "imprime um texto3\n"
     ]
    }
   ],
   "source": [
    "if (True):\n",
    "  print(\"imprime ae\")\n",
    "\n",
    "  print(\"imprime um texto1\")\n",
    "  print(\"imprime um texto2\")\n",
    "  print(\"imprime um texto3\")\n",
    "\n",
    "if(False):\n",
    "  print(\"imprime um texto4\")\n",
    "  print(\"imprime um texto5\")\n",
    "  print(\"imprime um texto6\")\n"
   ]
  },
  {
   "cell_type": "markdown",
   "metadata": {},
   "source": [
    "### **A cada : começamos um novo bloco de instrução**"
   ]
  },
  {
   "cell_type": "code",
   "execution_count": 70,
   "metadata": {},
   "outputs": [
    {
     "name": "stdout",
     "output_type": "stream",
     "text": [
      "50\n"
     ]
    }
   ],
   "source": [
    "a = 25\n",
    "if(True):\n",
    "  a = 50\n",
    "print(a)"
   ]
  },
  {
   "cell_type": "code",
   "execution_count": 72,
   "metadata": {},
   "outputs": [
    {
     "name": "stdout",
     "output_type": "stream",
     "text": [
      "o número é maior que 10\n",
      "o valor é maior que 50\n"
     ]
    }
   ],
   "source": [
    "num1 = int(input(\"digite um número: \"))\n",
    "\n",
    "if (num1 > 10):\n",
    "  print(\"o número é maior que 10\")\n",
    "  if (num1 <= 15):\n",
    "    print(\"valor maior que 10 e menor que 15\")\n",
    "  else:\n",
    "    if(num1 <= 50):\n",
    "      print(\"o valor é maior que 10 mas menor que 50\")\n",
    "    else:\n",
    "      print(\"o valor é maior que 50\")\n",
    "\n",
    "else:\n",
    "  if(num1 > 5):\n",
    "    print(\"o número é maior que 5 e menor que 10\")\n",
    "    if(num1 == 7): # só executado se num1 > 5 e == 7\n",
    "      print(\"o número é 7\")\n",
    "  else:\n",
    "    print(\"o valor é menor que 5\")"
   ]
  },
  {
   "cell_type": "markdown",
   "metadata": {},
   "source": [
    "## **Escopo**"
   ]
  },
  {
   "cell_type": "markdown",
   "metadata": {},
   "source": [
    "<img src = \"images/escopo.png\" alt = \"Níveis de escopo\"/>"
   ]
  },
  {
   "cell_type": "markdown",
   "metadata": {},
   "source": [
    "\n",
    "### **Nível/escopo global**: fora de uma função ou bloco de instrução (1) \n",
    "### **Nível/escopa local**: dentro de uma função ou bloco de instrução (2)\n",
    "### **Escopo parametrizado**: no cabeçalho da função, contidas entre parênteses ()\n",
    "\n",
    "### -bloco (2) está contido no nível (1) e pode acessar as variáveis do escopo (1)\n",
    "### -bloco (1) não consegue acessar as variáveis dos níveis (2), (3) e (4)\n",
    "### -bloco (4) está contido no nível (3) e pode acessar o escopo (3) e (1)\n",
    "### -bloco (4) não pode acessar as variáveis dentro bloco (2)\n"
   ]
  },
  {
   "cell_type": "code",
   "execution_count": 73,
   "metadata": {},
   "outputs": [
    {
     "name": "stdout",
     "output_type": "stream",
     "text": [
      "3\n",
      "0\n",
      "1\n",
      "2\n",
      "3\n",
      "4\n"
     ]
    }
   ],
   "source": [
    "a = 1\n",
    "b = 2\n",
    "\n",
    "def soma_num(var1, var2):\n",
    "  s = var1 + var2\n",
    "  return s\n",
    "\n",
    "def imprime(x_vezes):\n",
    "  for i in range(x_vezes):\n",
    "    print(i)\n",
    "\n",
    "print(soma_num(a, b))\n",
    "imprime(5)"
   ]
  },
  {
   "cell_type": "markdown",
   "metadata": {},
   "source": [
    "## **Operadores de Atribuição**"
   ]
  },
  {
   "cell_type": "markdown",
   "metadata": {},
   "source": [
    "### atribuição **x = y**\n",
    "### o valor da direita (y) é atribuído a variável a esquerda do operador (x)\n",
    "\n",
    "### comparação **x == y**"
   ]
  },
  {
   "cell_type": "code",
   "execution_count": 2,
   "metadata": {},
   "outputs": [
    {
     "data": {
      "text/plain": [
       "False"
      ]
     },
     "execution_count": 2,
     "metadata": {},
     "output_type": "execute_result"
    }
   ],
   "source": [
    "a = 9\n",
    "x = y = z = a\n",
    "a\n",
    "x == y == z == a == 10"
   ]
  },
  {
   "cell_type": "markdown",
   "metadata": {},
   "source": [
    "### **Atribuição Múltipla**"
   ]
  },
  {
   "cell_type": "markdown",
   "metadata": {},
   "source": [
    "### Atribuir valores diferentes a variáveis distintas numa mesma instrução:\n",
    "**a, b, c = 5, 7, 9**"
   ]
  },
  {
   "cell_type": "code",
   "execution_count": 9,
   "metadata": {},
   "outputs": [
    {
     "data": {
      "text/plain": [
       "5"
      ]
     },
     "execution_count": 9,
     "metadata": {},
     "output_type": "execute_result"
    }
   ],
   "source": [
    "a = 10\n",
    "b = 5\n",
    "x = a\n",
    "a = b\n",
    "b = x\n",
    "a #a = 5 \n",
    "\n",
    "a, b = b, a # o valor de a deve ser atribuido em b, o mesmo ocorre para b\n",
    "a\n",
    "b"
   ]
  },
  {
   "cell_type": "code",
   "execution_count": 12,
   "metadata": {},
   "outputs": [
    {
     "data": {
      "text/plain": [
       "(4, 14, 64)"
      ]
     },
     "execution_count": 12,
     "metadata": {},
     "output_type": "execute_result"
    }
   ],
   "source": [
    "a, b, c =2, 4, 8\n",
    "a, b, c = a*2, a+b+c, a*b*c # a = 2, b = 4, c = 8\n",
    "\n",
    "a, b, c"
   ]
  },
  {
   "cell_type": "code",
   "execution_count": 14,
   "metadata": {},
   "outputs": [
    {
     "data": {
      "text/plain": [
       "'Grazi Daiana'"
      ]
     },
     "execution_count": 14,
     "metadata": {},
     "output_type": "execute_result"
    }
   ],
   "source": [
    "nome, sobrenome = \"Grazi\", \" Daiana\"\n",
    "nome + sobrenome"
   ]
  },
  {
   "cell_type": "markdown",
   "metadata": {},
   "source": [
    "## **Operadores de Atribuição Compostos**"
   ]
  },
  {
   "cell_type": "markdown",
   "metadata": {},
   "source": [
    "\n",
    "### **+= -> (x += y) == x + y**\n",
    "### **-= -> (x -= y) == x - y**\n",
    "\n",
    "### **= -> (x *= y) == x * y**\n",
    "### **/= -> (x /= y) == x / y**\n",
    "\n",
    "### **%= -> (x %= y) == x % y**\n"
   ]
  },
  {
   "cell_type": "code",
   "execution_count": 20,
   "metadata": {},
   "outputs": [
    {
     "data": {
      "text/plain": [
       "27"
      ]
     },
     "execution_count": 20,
     "metadata": {},
     "output_type": "execute_result"
    }
   ],
   "source": [
    "x = 9\n",
    "y = 3\n",
    "x *= y\n",
    "x"
   ]
  },
  {
   "cell_type": "markdown",
   "metadata": {},
   "source": [
    "## **Atribuição Condicional**"
   ]
  },
  {
   "cell_type": "markdown",
   "metadata": {},
   "source": [
    "### **Estrutura para simplificar o código, onde o valor a ser atribuído será aquele que satisfazer a condição**"
   ]
  },
  {
   "cell_type": "code",
   "execution_count": null,
   "metadata": {},
   "outputs": [],
   "source": [
    "<variavel> = <valor1> if (True) else <valor2>\n",
    "\n",
    "var = 10 if (True) else 20"
   ]
  },
  {
   "cell_type": "code",
   "execution_count": 24,
   "metadata": {},
   "outputs": [
    {
     "data": {
      "text/plain": [
       "'sim'"
      ]
     },
     "execution_count": 24,
     "metadata": {},
     "output_type": "execute_result"
    }
   ],
   "source": [
    "x = 10\n",
    "texto = \"sim\" if x == 10 else \"not\"\n",
    "texto"
   ]
  },
  {
   "cell_type": "code",
   "execution_count": 28,
   "metadata": {},
   "outputs": [
    {
     "name": "stdout",
     "output_type": "stream",
     "text": [
      "o numero digitado eh par\n"
     ]
    }
   ],
   "source": [
    "num1 = int(input(\"Digite um numero: \"))\n",
    "s = \"par\" if num1 % 2 == 0 else \"impar\"\n",
    "print(\"o numero digitado eh\", s)"
   ]
  },
  {
   "cell_type": "markdown",
   "metadata": {},
   "source": [
    "## **Iteração/ Laços Condicionais/ Looping**"
   ]
  },
  {
   "cell_type": "markdown",
   "metadata": {},
   "source": [
    "### **Processo de repetição onde um bloco de instrução é executado enquanto uma condição for atendida**"
   ]
  },
  {
   "cell_type": "code",
   "execution_count": 3,
   "metadata": {},
   "outputs": [
    {
     "name": "stdout",
     "output_type": "stream",
     "text": [
      "0\n",
      "1\n",
      "2\n",
      "3\n",
      "4\n",
      "5\n",
      "6\n",
      "7\n",
      "8\n",
      "9\n",
      "10\n"
     ]
    }
   ],
   "source": [
    "x = 0\n",
    "while(x <= 10):\n",
    "  print(x)\n",
    "  x += 1"
   ]
  },
  {
   "cell_type": "markdown",
   "metadata": {},
   "source": [
    "### **Laços de Repetição**"
   ]
  },
  {
   "cell_type": "markdown",
   "metadata": {},
   "source": [
    "<img src = \"images/while.png\" alt = \"Laço de condição\"/>"
   ]
  },
  {
   "cell_type": "markdown",
   "metadata": {},
   "source": [
    "## **while else**"
   ]
  },
  {
   "cell_type": "markdown",
   "metadata": {},
   "source": [
    "<img src = \"images/else.png\" alt = \"blocos de condição\"/>"
   ]
  },
  {
   "cell_type": "code",
   "execution_count": 7,
   "metadata": {},
   "outputs": [
    {
     "name": "stdout",
     "output_type": "stream",
     "text": [
      "while\n",
      "0\n",
      "1\n",
      "2\n",
      "3\n",
      "4\n",
      "5\n",
      "6\n",
      "7\n",
      "8\n",
      "9\n",
      "else\n",
      "end\n"
     ]
    }
   ],
   "source": [
    "x = 0\n",
    "print(\"while\")\n",
    "while(x<10):\n",
    "  print(x)\n",
    "  x = x + 1;\n",
    "else:\n",
    "  print(\"else\")\n",
    "\n",
    "print(\"end\")"
   ]
  },
  {
   "cell_type": "markdown",
   "metadata": {},
   "source": [
    "## **Laçõs de Repetição *for*... *in*...:**"
   ]
  },
  {
   "cell_type": "code",
   "execution_count": null,
   "metadata": {},
   "outputs": [],
   "source": [
    "for <var> in <lista>:\n",
    "...\n",
    "...\n",
    "..."
   ]
  },
  {
   "cell_type": "code",
   "execution_count": 9,
   "metadata": {},
   "outputs": [
    {
     "name": "stdout",
     "output_type": "stream",
     "text": [
      "e\n",
      "X\n",
      "c\n",
      "r\n",
      "i\n",
      "p\n",
      "t\n"
     ]
    }
   ],
   "source": [
    "for c in \"eXcript\":\n",
    "  print(c)\n",
    "  # loop executado 7 vezes (numero de letras da nossa lista) em cada ciclo 'c' recebe uma letra"
   ]
  },
  {
   "cell_type": "markdown",
   "metadata": {},
   "source": [
    "## **Função *range***"
   ]
  },
  {
   "cell_type": "code",
   "execution_count": null,
   "metadata": {},
   "outputs": [],
   "source": [
    "range ([start], stop[, step]) #onde o intervalo começa (start), onde termina (stop) e a distancia que os elementos inteiros que serão gerados terão entre si"
   ]
  },
  {
   "cell_type": "markdown",
   "metadata": {},
   "source": [
    "### x[, ]y    #intervalo aberto\n",
    "\n",
    "### 0, 4      # x = 0 e y = 4\n",
    "\n",
    "### {1, 2, 3} # o primeiro e último elemento não estão contidos 0, 4\n",
    "\n",
    "### [x, y] #intervalo fechado\n",
    "### 0,4\n",
    "### {0, 1, 2, 3, 4}"
   ]
  },
  {
   "cell_type": "code",
   "execution_count": 14,
   "metadata": {},
   "outputs": [
    {
     "data": {
      "text/plain": [
       "[0, 2, 4, 6, 8]"
      ]
     },
     "execution_count": 14,
     "metadata": {},
     "output_type": "execute_result"
    }
   ],
   "source": [
    "# range(0, 10, 2)\n",
    "# type(range(0,10,2)\n",
    "list(range(0, 10, 2))"
   ]
  },
  {
   "cell_type": "code",
   "execution_count": 16,
   "metadata": {},
   "outputs": [
    {
     "data": {
      "text/plain": [
       "[0, 1, 2, 3, 4, 5, 6, 7, 8, 9]"
      ]
     },
     "execution_count": 16,
     "metadata": {},
     "output_type": "execute_result"
    }
   ],
   "source": [
    "list(range(10)) #padrão (0, - , 1)"
   ]
  },
  {
   "cell_type": "code",
   "execution_count": 2,
   "metadata": {},
   "outputs": [
    {
     "data": {
      "text/plain": [
       "[5, 15, 25]"
      ]
     },
     "execution_count": 2,
     "metadata": {},
     "output_type": "execute_result"
    }
   ],
   "source": [
    "\n",
    "list(range(5, 26, 10))"
   ]
  },
  {
   "cell_type": "markdown",
   "metadata": {},
   "source": [
    "### **Laço *for* e função *range***"
   ]
  },
  {
   "cell_type": "code",
   "execution_count": null,
   "metadata": {},
   "outputs": [],
   "source": [
    "list(range(10))\n",
    "\n",
    "list(range(1, 15))\n",
    "\n",
    "list(range(0, 100, 3))\n",
    "\n",
    "list(range(100, 0, -3))\n",
    "\n",
    "list(range(-100, 0, 3))\n"
   ]
  },
  {
   "cell_type": "code",
   "execution_count": 4,
   "metadata": {},
   "outputs": [
    {
     "name": "stdout",
     "output_type": "stream",
     "text": [
      "-10\n",
      "-9\n",
      "-8\n",
      "-7\n",
      "-6\n",
      "-5\n",
      "-4\n",
      "-3\n",
      "-2\n",
      "-1\n"
     ]
    }
   ],
   "source": [
    "for i in range(-10, 0, 1):\n",
    "  print(i)"
   ]
  },
  {
   "cell_type": "markdown",
   "metadata": {},
   "source": [
    "## **Break**"
   ]
  },
  {
   "cell_type": "markdown",
   "metadata": {},
   "source": [
    "### **A instrução *break* interrompe a execução do laço de repetição onde esta contido**"
   ]
  },
  {
   "cell_type": "code",
   "execution_count": 6,
   "metadata": {},
   "outputs": [],
   "source": [
    "for i in range(10):\n",
    "  if(True):\n",
    "    break"
   ]
  },
  {
   "cell_type": "code",
   "execution_count": 5,
   "metadata": {},
   "outputs": [],
   "source": [
    "i = 10\n",
    "while (i<100):\n",
    "  i += 1\n",
    "  if(True):\n",
    "    break"
   ]
  },
  {
   "cell_type": "code",
   "execution_count": 9,
   "metadata": {},
   "outputs": [
    {
     "name": "stdout",
     "output_type": "stream",
     "text": [
      "antes de entrar no laço\n",
      "0\n",
      "1\n",
      "2\n",
      "3\n",
      "4\n",
      "5\n",
      "6\n",
      "saida do laço\n"
     ]
    }
   ],
   "source": [
    "print(\"antes de entrar no laço\")\n",
    "for item in range(10):\n",
    "  print(item)\n",
    "  if(item==6):\n",
    "    #print(\"a condicao e verdadeira\")\n",
    "    break\n",
    "print(\"saida do laço\")"
   ]
  },
  {
   "cell_type": "markdown",
   "metadata": {},
   "source": [
    "## **Instrução *continue***"
   ]
  },
  {
   "cell_type": "markdown",
   "metadata": {},
   "source": [
    "### **interrompe a execução de um único ciclo. Enquanto o *break* interrompe todos os ciclos de um laço de repetição, a instrução *continue* finalizza somente o ciclo que está sendo executado**"
   ]
  },
  {
   "cell_type": "code",
   "execution_count": 4,
   "metadata": {},
   "outputs": [
    {
     "name": "stdout",
     "output_type": "stream",
     "text": [
      "\n",
      "inicio\n",
      "1\n",
      "3\n",
      "5\n",
      "fim\n",
      "\n"
     ]
    }
   ],
   "source": [
    "print()\n",
    "print(\"inicio\")\n",
    "i = 0\n",
    "while(i<10):\n",
    "  i += 1\n",
    "  if(i%2==0):\n",
    "      continue\n",
    "  if(i>5):\n",
    "      break\n",
    "  print(i)\n",
    "else:\n",
    "  print(\"else\") \n",
    "print(\"fim\")\n",
    "print()"
   ]
  },
  {
   "cell_type": "markdown",
   "metadata": {},
   "source": [
    "## **Estruturas de dados *listas*, *Pilha*, *Array*, *Set***"
   ]
  },
  {
   "cell_type": "markdown",
   "metadata": {},
   "source": [
    "### **Estrutura de Dados é qualquer meio utilizado para armazenar e recuperar informações**"
   ]
  },
  {
   "cell_type": "markdown",
   "metadata": {},
   "source": [
    "## ***Listas***"
   ]
  },
  {
   "cell_type": "markdown",
   "metadata": {},
   "source": [
    "### Estrutura de dados mútavel (podemos incluir e excluir itens) onde a ordenação natural é estabelecida pela ordem de entrada. O último item de uma lista não ordenada SEMPRE será último elemento adicionado."
   ]
  },
  {
   "cell_type": "markdown",
   "metadata": {},
   "source": [
    "A estrutura de lista, por si só, não apresenta ordenação"
   ]
  },
  {
   "cell_type": "markdown",
   "metadata": {},
   "source": [
    "<img src = \"images/listas.png\" alt = \"blocos de condição\"/>"
   ]
  },
  {
   "cell_type": "markdown",
   "metadata": {},
   "source": [
    "## **Pilha**"
   ]
  },
  {
   "cell_type": "markdown",
   "metadata": {},
   "source": [
    "### Estrutura de dados mutável onde a ordenação natural é estabelecido pela ordem de entrada. O primeiro item da pilha SEMPRE será o último elemento adicionado. O itens são acumulados."
   ]
  },
  {
   "cell_type": "markdown",
   "metadata": {},
   "source": [
    "<img src = \"images/pilhas.png\" alt = \"blocos de condição\"/>"
   ]
  },
  {
   "cell_type": "markdown",
   "metadata": {},
   "source": [
    "## **Array**"
   ]
  },
  {
   "cell_type": "markdown",
   "metadata": {},
   "source": [
    "### Estrutura de dados estática para a manipulação de um número finito de elementos de um mesmo tipo."
   ]
  },
  {
   "cell_type": "markdown",
   "metadata": {},
   "source": [
    "<img src = \"images/array.png\" alt = \"blocos de condição\"/>"
   ]
  },
  {
   "cell_type": "markdown",
   "metadata": {},
   "source": [
    "## **Tupla**"
   ]
  },
  {
   "cell_type": "markdown",
   "metadata": {},
   "source": [
    "### Estrutura de dados que possui todas as caractarísticas de uma lista porém imutável. A tupla pode conter 0 ou 'n' elementos e estes não poderão ser alterados."
   ]
  },
  {
   "cell_type": "markdown",
   "metadata": {},
   "source": [
    "<img src = \"images/tupla.png\" alt = \"blocos de condição\"/>"
   ]
  },
  {
   "cell_type": "markdown",
   "metadata": {},
   "source": [
    "## **Set (conjunto)**"
   ]
  },
  {
   "cell_type": "markdown",
   "metadata": {},
   "source": [
    "### Estrutura de dados semelhante a uma lista. Um set tem como princípio conter uma lista de valores diferentes (não possui itens com mesmo valor; valor é diferente de tipo de dados!)"
   ]
  },
  {
   "cell_type": "markdown",
   "metadata": {},
   "source": [
    "<img src = \"images/set.png\" alt = \"blocos de condição\"/>"
   ]
  },
  {
   "cell_type": "markdown",
   "metadata": {},
   "source": [
    "## **Dicionário**"
   ]
  },
  {
   "cell_type": "markdown",
   "metadata": {},
   "source": [
    "### Estrutura de dados onde cada elemento está associado a uma chave que pode ser de qualquer tipo. O valor da chave NUNCA pode se repetir."
   ]
  },
  {
   "cell_type": "markdown",
   "metadata": {},
   "source": [
    "<img src = \"images/dicio.png\" alt = \"Dicionario exemplo\"/>"
   ]
  },
  {
   "cell_type": "markdown",
   "metadata": {},
   "source": [
    "## **Árvores**"
   ]
  },
  {
   "cell_type": "markdown",
   "metadata": {},
   "source": [
    "### Estrutura de dados disposta numa hierarquia. A estrutura de diretórios do nosso computador é uma árvore."
   ]
  },
  {
   "cell_type": "markdown",
   "metadata": {},
   "source": [
    "<img src = \"images/arvore.png\" alt = \"arvore\"/>"
   ]
  },
  {
   "cell_type": "markdown",
   "metadata": {},
   "source": []
  },
  {
   "cell_type": "markdown",
   "metadata": {},
   "source": [
    "## **Listas Propriedades**"
   ]
  },
  {
   "cell_type": "markdown",
   "metadata": {},
   "source": [
    "### **Class List I**"
   ]
  },
  {
   "cell_type": "code",
   "execution_count": 20,
   "metadata": {},
   "outputs": [
    {
     "data": {
      "text/plain": [
       "list"
      ]
     },
     "execution_count": 20,
     "metadata": {},
     "output_type": "execute_result"
    }
   ],
   "source": [
    "lista = [1,2,8,5,15]\n",
    "lista\n",
    "type(['aaa','bbb'])"
   ]
  },
  {
   "cell_type": "code",
   "execution_count": 21,
   "metadata": {},
   "outputs": [
    {
     "data": {
      "text/plain": [
       "1"
      ]
     },
     "execution_count": 21,
     "metadata": {},
     "output_type": "execute_result"
    }
   ],
   "source": [
    "lista[0] #índice do elemento da lista"
   ]
  },
  {
   "cell_type": "code",
   "execution_count": 22,
   "metadata": {},
   "outputs": [
    {
     "data": {
      "text/plain": [
       "10"
      ]
     },
     "execution_count": 22,
     "metadata": {},
     "output_type": "execute_result"
    }
   ],
   "source": [
    "lista[1]+lista[2]"
   ]
  },
  {
   "cell_type": "code",
   "execution_count": 11,
   "metadata": {},
   "outputs": [
    {
     "data": {
      "text/plain": [
       "['e', 'X', 'c', 'r', 'i', 'p', 't']"
      ]
     },
     "execution_count": 11,
     "metadata": {},
     "output_type": "execute_result"
    }
   ],
   "source": [
    "l1 = list(\"eXcript\") #objeto iteravel = list\n",
    "l1"
   ]
  },
  {
   "cell_type": "code",
   "execution_count": 13,
   "metadata": {},
   "outputs": [
    {
     "data": {
      "text/plain": [
       "[4, 5, 8]"
      ]
     },
     "execution_count": 13,
     "metadata": {},
     "output_type": "execute_result"
    }
   ],
   "source": [
    "l2 = list((4,5,8))\n",
    "l2"
   ]
  },
  {
   "cell_type": "code",
   "execution_count": 18,
   "metadata": {},
   "outputs": [
    {
     "data": {
      "text/plain": [
       "['eXcript']"
      ]
     },
     "execution_count": 18,
     "metadata": {},
     "output_type": "execute_result"
    }
   ],
   "source": [
    "l3 = list((\"eXcript\",)) #necessário colocar uma vírgula para indicar que a lista contem um elemento do tipo string com o valor 'eXcript'\n",
    "l3"
   ]
  },
  {
   "cell_type": "markdown",
   "metadata": {},
   "source": [
    "### **Class List II**"
   ]
  },
  {
   "cell_type": "code",
   "execution_count": 26,
   "metadata": {},
   "outputs": [
    {
     "data": {
      "text/plain": [
       "[1.6]"
      ]
     },
     "execution_count": 26,
     "metadata": {},
     "output_type": "execute_result"
    }
   ],
   "source": [
    "lista_de_lista = [['a','b','c'],[5,8,9],[1.6]]\n",
    "lista_de_lista[2]\n"
   ]
  },
  {
   "cell_type": "code",
   "execution_count": 28,
   "metadata": {},
   "outputs": [
    {
     "data": {
      "text/plain": [
       "'b'"
      ]
     },
     "execution_count": 28,
     "metadata": {},
     "output_type": "execute_result"
    }
   ],
   "source": [
    "lista_de_lista[0][1] #segundo elemento da primeira lista"
   ]
  },
  {
   "cell_type": "code",
   "execution_count": 30,
   "metadata": {},
   "outputs": [
    {
     "data": {
      "text/plain": [
       "3"
      ]
     },
     "execution_count": 30,
     "metadata": {},
     "output_type": "execute_result"
    }
   ],
   "source": [
    "len(lista_de_lista)#função que retorna o comprimento (quantos elementos contem) da lista"
   ]
  },
  {
   "cell_type": "code",
   "execution_count": 31,
   "metadata": {},
   "outputs": [
    {
     "data": {
      "text/plain": [
       "7"
      ]
     },
     "execution_count": 31,
     "metadata": {},
     "output_type": "execute_result"
    }
   ],
   "source": [
    "len('eXcript')"
   ]
  },
  {
   "cell_type": "code",
   "execution_count": 32,
   "metadata": {},
   "outputs": [
    {
     "data": {
      "text/plain": [
       "[1.6]"
      ]
     },
     "execution_count": 32,
     "metadata": {},
     "output_type": "execute_result"
    }
   ],
   "source": [
    "lista_de_lista[len(lista_de_lista)-1]"
   ]
  },
  {
   "cell_type": "code",
   "execution_count": 34,
   "metadata": {},
   "outputs": [
    {
     "data": {
      "text/plain": [
       "[1.6]"
      ]
     },
     "execution_count": 34,
     "metadata": {},
     "output_type": "execute_result"
    }
   ],
   "source": [
    "lista_de_lista[-1] #último elemento da lista"
   ]
  },
  {
   "cell_type": "code",
   "execution_count": 36,
   "metadata": {},
   "outputs": [
    {
     "data": {
      "text/plain": [
       "'c'"
      ]
     },
     "execution_count": 36,
     "metadata": {},
     "output_type": "execute_result"
    }
   ],
   "source": [
    "lista_de_lista[0][-1] #retorna o último elemente da lista de índice 0"
   ]
  },
  {
   "cell_type": "markdown",
   "metadata": {},
   "source": [
    "### **Class List III**"
   ]
  },
  {
   "cell_type": "code",
   "execution_count": 38,
   "metadata": {},
   "outputs": [
    {
     "data": {
      "text/plain": [
       "[1, 2, 3, 4, 5, 6]"
      ]
     },
     "execution_count": 38,
     "metadata": {},
     "output_type": "execute_result"
    }
   ],
   "source": [
    "lista = [1,2,3,4,5]\n",
    "lista = lista + [6] #adicionar um elemento a lista Concatenação\n",
    "lista"
   ]
  },
  {
   "cell_type": "code",
   "execution_count": 39,
   "metadata": {},
   "outputs": [
    {
     "data": {
      "text/plain": [
       "[0, 1, 2, 3, 4, 5, 6]"
      ]
     },
     "execution_count": 39,
     "metadata": {},
     "output_type": "execute_result"
    }
   ],
   "source": [
    "lista = [0] + lista\n",
    "lista"
   ]
  },
  {
   "cell_type": "code",
   "execution_count": 48,
   "metadata": {},
   "outputs": [
    {
     "data": {
      "text/plain": [
       "[0, 1, 2, 3, 4, 5, 6, 7, 8, 9, 10]"
      ]
     },
     "execution_count": 48,
     "metadata": {},
     "output_type": "execute_result"
    }
   ],
   "source": [
    "lista = [0,1,2,3,4,5,6]\n",
    "lista1 = lista + [7,8,9,10]\n",
    "lista1"
   ]
  },
  {
   "cell_type": "code",
   "execution_count": 53,
   "metadata": {},
   "outputs": [
    {
     "data": {
      "text/plain": [
       "[0, 1, 2, 3, 4, 5, 6, 7, 8, 9, 10, 11, 11, 11]"
      ]
     },
     "execution_count": 53,
     "metadata": {},
     "output_type": "execute_result"
    }
   ],
   "source": [
    "lista1.append(11) #adicionar valor ao final da lista\n",
    "lista1"
   ]
  },
  {
   "cell_type": "code",
   "execution_count": 62,
   "metadata": {},
   "outputs": [
    {
     "data": {
      "text/plain": [
       "[0, 1, 2, 3, 4, 5, 6, 7, 8, 9, 10, [12]]"
      ]
     },
     "execution_count": 62,
     "metadata": {},
     "output_type": "execute_result"
    }
   ],
   "source": [
    "lista1 = [0, 1, 2, 3, 4, 5, 6, 7, 8, 9, 10]\n",
    "lista1.append([12])\n",
    "lista1"
   ]
  },
  {
   "cell_type": "code",
   "execution_count": 63,
   "metadata": {},
   "outputs": [],
   "source": [
    "del(lista1[-1]) #excluir valor da lista"
   ]
  },
  {
   "cell_type": "code",
   "execution_count": 64,
   "metadata": {},
   "outputs": [
    {
     "data": {
      "text/plain": [
       "[0, 1, 2, 3, 4, 5, 6, 7, 8, 9, 10]"
      ]
     },
     "execution_count": 64,
     "metadata": {},
     "output_type": "execute_result"
    }
   ],
   "source": [
    "lista1"
   ]
  },
  {
   "cell_type": "code",
   "execution_count": 65,
   "metadata": {},
   "outputs": [
    {
     "data": {
      "text/plain": [
       "[0, 0, 0, 0, 0, 0, 0, 0, 0, 0]"
      ]
     },
     "execution_count": 65,
     "metadata": {},
     "output_type": "execute_result"
    }
   ],
   "source": [
    "10*[0]"
   ]
  },
  {
   "cell_type": "code",
   "execution_count": 66,
   "metadata": {},
   "outputs": [],
   "source": [
    "lista1 += 10*[0]"
   ]
  },
  {
   "cell_type": "code",
   "execution_count": 67,
   "metadata": {},
   "outputs": [
    {
     "data": {
      "text/plain": [
       "[0, 1, 2, 3, 4, 5, 6, 7, 8, 9, 10, 0, 0, 0, 0, 0, 0, 0, 0, 0, 0]"
      ]
     },
     "execution_count": 67,
     "metadata": {},
     "output_type": "execute_result"
    }
   ],
   "source": [
    "lista1"
   ]
  },
  {
   "cell_type": "markdown",
   "metadata": {},
   "source": [
    "### **Iterando Listas**"
   ]
  },
  {
   "cell_type": "markdown",
   "metadata": {},
   "source": [
    "#### **Percorrer todos os itens => Iterar**"
   ]
  },
  {
   "cell_type": "code",
   "execution_count": 1,
   "metadata": {},
   "outputs": [
    {
     "name": "stdout",
     "output_type": "stream",
     "text": [
      "100\n",
      "200\n",
      "300\n",
      "400\n"
     ]
    }
   ],
   "source": [
    "lista_nums = [100, 200, 300, 400]\n",
    "for item in lista_nums:\n",
    "  print(item)"
   ]
  },
  {
   "cell_type": "markdown",
   "metadata": {},
   "source": [
    "### Não podemos efutar operações matemáticas em cima da variável que estamos iterando!"
   ]
  },
  {
   "cell_type": "code",
   "execution_count": 2,
   "metadata": {},
   "outputs": [
    {
     "name": "stdout",
     "output_type": "stream",
     "text": [
      "[1100, 1200, 1300, 1400]\n"
     ]
    }
   ],
   "source": [
    "lista_nums = [100, 200, 300, 400]\n",
    "lista_indice = [0,1,2,3]\n",
    "for item in lista_indice:\n",
    "  lista_nums[item] += 1000\n",
    "print(lista_nums)"
   ]
  },
  {
   "cell_type": "code",
   "execution_count": 4,
   "metadata": {},
   "outputs": [
    {
     "data": {
      "text/plain": [
       "[0, 1, 2, 3]"
      ]
     },
     "execution_count": 4,
     "metadata": {},
     "output_type": "execute_result"
    }
   ],
   "source": [
    "list(range(0,4))"
   ]
  },
  {
   "cell_type": "code",
   "execution_count": 6,
   "metadata": {},
   "outputs": [
    {
     "name": "stdout",
     "output_type": "stream",
     "text": [
      "[1100, 1200, 1300, 1400]\n"
     ]
    }
   ],
   "source": [
    "lista_nums = [100, 200, 300, 400]\n",
    "lista_indice = range(4)\n",
    "for item in lista_indice:\n",
    "  lista_nums[item] += 1000\n",
    "print(lista_nums)"
   ]
  },
  {
   "cell_type": "code",
   "execution_count": 7,
   "metadata": {},
   "outputs": [
    {
     "name": "stdout",
     "output_type": "stream",
     "text": [
      "[1100, 1200, 1300, 1400]\n"
     ]
    }
   ],
   "source": [
    "#a função range() no intervalo indicado, ex. rang(4) = [0,1,2,3]\n",
    "\n",
    "lista_nums = [100, 200, 300, 400]\n",
    "for item in range(4):\n",
    "  lista_nums[item] += 1000\n",
    "print(lista_nums)"
   ]
  },
  {
   "cell_type": "code",
   "execution_count": 9,
   "metadata": {},
   "outputs": [
    {
     "name": "stdout",
     "output_type": "stream",
     "text": [
      "[1100, 1200, 1300, 1400, 1500, 1600, 1700, 1800]\n"
     ]
    }
   ],
   "source": [
    "# a função len retorna a quantidade de elementos que existem em uma lista\n",
    "\n",
    "lista_nums = [100, 200, 300, 400, 500, 600, 700, 800]\n",
    "for item in range(len(lista_nums)):\n",
    "  lista_nums[item] += 1000\n",
    "print(lista_nums)"
   ]
  },
  {
   "cell_type": "code",
   "execution_count": 11,
   "metadata": {},
   "outputs": [
    {
     "data": {
      "text/plain": [
       "<enumerate at 0x7f8b52472280>"
      ]
     },
     "execution_count": 11,
     "metadata": {},
     "output_type": "execute_result"
    }
   ],
   "source": [
    "#Função enumerate adiciona um valor numerico para cada elemento da lista\n",
    "\n",
    "l = ['aaa', 'bbb', 'ccc', 'ddd']\n",
    "enumerate(l)"
   ]
  },
  {
   "cell_type": "code",
   "execution_count": 13,
   "metadata": {},
   "outputs": [
    {
     "data": {
      "text/plain": [
       "[(0, 'aaa'), (1, 'bbb'), (2, 'ccc'), (3, 'ddd')]"
      ]
     },
     "execution_count": 13,
     "metadata": {},
     "output_type": "execute_result"
    }
   ],
   "source": [
    "#Convertendo enumerate para o tipo lista\n",
    "l = ['aaa', 'bbb', 'ccc', 'ddd']\n",
    "list(enumerate(l))\n"
   ]
  },
  {
   "cell_type": "code",
   "execution_count": 14,
   "metadata": {},
   "outputs": [
    {
     "name": "stdout",
     "output_type": "stream",
     "text": [
      "[1100, 1200, 1300, 1400, 1500, 1600, 1700, 1800]\n"
     ]
    }
   ],
   "source": [
    "lista_nums = [100, 200, 300, 400, 500, 600, 700, 800]\n",
    "for idx, item in enumerate(lista_nums):\n",
    "  lista_nums[idx] += 1000\n",
    "print(lista_nums)"
   ]
  },
  {
   "cell_type": "markdown",
   "metadata": {},
   "source": [
    "### **Fatiando listas**"
   ]
  },
  {
   "cell_type": "markdown",
   "metadata": {},
   "source": [
    "<img src = \"images/slice.png\" alt = \"index para a palavra Python\"/>"
   ]
  },
  {
   "cell_type": "markdown",
   "metadata": {},
   "source": [
    "<img src = \"images/fatiar.png\" alt = \"fatiando listas\"/>"
   ]
  },
  {
   "cell_type": "markdown",
   "metadata": {},
   "source": [
    "### **Por padrão temos, caso não seja definido:**\n",
    "  * ### x = 0\n",
    "  * ### y = len() [tamanho da lista]\n",
    "  * ### z = 1\n"
   ]
  },
  {
   "cell_type": "code",
   "execution_count": 15,
   "metadata": {},
   "outputs": [
    {
     "data": {
      "text/plain": [
       "'o'"
      ]
     },
     "execution_count": 15,
     "metadata": {},
     "output_type": "execute_result"
    }
   ],
   "source": [
    "lista = 'Bem vindo ao curso de Python'\n",
    "lista[11]"
   ]
  },
  {
   "cell_type": "code",
   "execution_count": 16,
   "metadata": {},
   "outputs": [
    {
     "data": {
      "text/plain": [
       "'Bem vindo ao curso d'"
      ]
     },
     "execution_count": 16,
     "metadata": {},
     "output_type": "execute_result"
    }
   ],
   "source": [
    "lista[:20 ]"
   ]
  },
  {
   "cell_type": "code",
   "execution_count": 17,
   "metadata": {},
   "outputs": [
    {
     "data": {
      "text/plain": [
       "'ao curso d'"
      ]
     },
     "execution_count": 17,
     "metadata": {},
     "output_type": "execute_result"
    }
   ],
   "source": [
    "lista[10:20 ]"
   ]
  },
  {
   "cell_type": "code",
   "execution_count": 19,
   "metadata": {},
   "outputs": [
    {
     "data": {
      "text/plain": [
       "'Bmvnoa us ePto'"
      ]
     },
     "execution_count": 19,
     "metadata": {},
     "output_type": "execute_result"
    }
   ],
   "source": [
    "lista[::2 ]"
   ]
  },
  {
   "cell_type": "code",
   "execution_count": 21,
   "metadata": {},
   "outputs": [
    {
     "data": {
      "text/plain": [
       "'nohtyP ed osruc oa odniv meB'"
      ]
     },
     "execution_count": 21,
     "metadata": {},
     "output_type": "execute_result"
    }
   ],
   "source": [
    "lista[::-1 ]"
   ]
  },
  {
   "cell_type": "markdown",
   "metadata": {},
   "source": [
    "### **Incluindo, alterando e excluindo elementos**"
   ]
  },
  {
   "cell_type": "code",
   "execution_count": 30,
   "metadata": {},
   "outputs": [
    {
     "data": {
      "text/plain": [
       "['ccc', 'aaa', 'bbb']"
      ]
     },
     "execution_count": 30,
     "metadata": {},
     "output_type": "execute_result"
    }
   ],
   "source": [
    "# Criando uma lista l\n",
    "\n",
    "l = ['ccc', 'aaa', 'bbb']\n",
    "l"
   ]
  },
  {
   "cell_type": "code",
   "execution_count": 31,
   "metadata": {},
   "outputs": [
    {
     "data": {
      "text/plain": [
       "['ccc', 'aaa', 'bbb', 'eee']"
      ]
     },
     "execution_count": 31,
     "metadata": {},
     "output_type": "execute_result"
    }
   ],
   "source": [
    "# Inserindo um novo elemento no final da lista\n",
    "\n",
    "l.append('eee')\n",
    "l"
   ]
  },
  {
   "cell_type": "code",
   "execution_count": 32,
   "metadata": {},
   "outputs": [
    {
     "data": {
      "text/plain": [
       "['aaa', 'ccc', 'aaa', 'bbb', 'eee']"
      ]
     },
     "execution_count": 32,
     "metadata": {},
     "output_type": "execute_result"
    }
   ],
   "source": [
    "# Inserindo um item em uma posição específica com a função insert\n",
    "\n",
    "l.insert(0, 'aaa')\n",
    "l"
   ]
  },
  {
   "cell_type": "code",
   "execution_count": 33,
   "metadata": {},
   "outputs": [
    {
     "data": {
      "text/plain": [
       "'ccc'"
      ]
     },
     "execution_count": 33,
     "metadata": {},
     "output_type": "execute_result"
    }
   ],
   "source": [
    "# ALterando um elemento da lista\n",
    "\n",
    "l[1]"
   ]
  },
  {
   "cell_type": "code",
   "execution_count": 34,
   "metadata": {},
   "outputs": [],
   "source": [
    "l[1] = 'bbbb'"
   ]
  },
  {
   "cell_type": "code",
   "execution_count": 35,
   "metadata": {},
   "outputs": [
    {
     "data": {
      "text/plain": [
       "['aaa', 'bbbb', 'aaa', 'bbb', 'eee']"
      ]
     },
     "execution_count": 35,
     "metadata": {},
     "output_type": "execute_result"
    }
   ],
   "source": [
    "l"
   ]
  },
  {
   "cell_type": "code",
   "execution_count": 38,
   "metadata": {},
   "outputs": [
    {
     "data": {
      "text/plain": [
       "[]"
      ]
     },
     "execution_count": 38,
     "metadata": {},
     "output_type": "execute_result"
    }
   ],
   "source": [
    "# Excluindo todos elementos com clear\n",
    "l.clear()\n",
    "l"
   ]
  },
  {
   "cell_type": "code",
   "execution_count": 40,
   "metadata": {},
   "outputs": [],
   "source": [
    "l = ['aaa', 'ccc', 'fff', 'bbb', 'eee']"
   ]
  },
  {
   "cell_type": "code",
   "execution_count": 41,
   "metadata": {},
   "outputs": [
    {
     "data": {
      "text/plain": [
       "'eee'"
      ]
     },
     "execution_count": 41,
     "metadata": {},
     "output_type": "execute_result"
    }
   ],
   "source": [
    "# Excluindo determinado elemento com pop, se não passarmos o item que queremos excluir, ele exclui o último item\n",
    "\n",
    "l.pop()"
   ]
  },
  {
   "cell_type": "code",
   "execution_count": 42,
   "metadata": {},
   "outputs": [
    {
     "data": {
      "text/plain": [
       "['aaa', 'ccc', 'fff', 'bbb']"
      ]
     },
     "execution_count": 42,
     "metadata": {},
     "output_type": "execute_result"
    }
   ],
   "source": [
    "l"
   ]
  },
  {
   "cell_type": "code",
   "execution_count": 43,
   "metadata": {},
   "outputs": [
    {
     "data": {
      "text/plain": [
       "'aaa'"
      ]
     },
     "execution_count": 43,
     "metadata": {},
     "output_type": "execute_result"
    }
   ],
   "source": [
    "l.pop(0)"
   ]
  },
  {
   "cell_type": "code",
   "execution_count": 44,
   "metadata": {},
   "outputs": [
    {
     "data": {
      "text/plain": [
       "['ccc', 'fff', 'bbb']"
      ]
     },
     "execution_count": 44,
     "metadata": {},
     "output_type": "execute_result"
    }
   ],
   "source": [
    "l"
   ]
  },
  {
   "cell_type": "code",
   "execution_count": 46,
   "metadata": {},
   "outputs": [],
   "source": [
    "l = ['aaa', 'ccc', 'fff', 'bbb', 'eee']"
   ]
  },
  {
   "cell_type": "code",
   "execution_count": 47,
   "metadata": {},
   "outputs": [],
   "source": [
    "# Excluindo vários elementos com del\n",
    "\n",
    "del (l[2:4])"
   ]
  },
  {
   "cell_type": "code",
   "execution_count": 48,
   "metadata": {},
   "outputs": [
    {
     "data": {
      "text/plain": [
       "['aaa', 'ccc', 'eee']"
      ]
     },
     "execution_count": 48,
     "metadata": {},
     "output_type": "execute_result"
    }
   ],
   "source": [
    "l"
   ]
  },
  {
   "cell_type": "code",
   "execution_count": 49,
   "metadata": {},
   "outputs": [],
   "source": [
    "l = ['aaa', 'ccc', 'fff', 'bbb', 'eee']"
   ]
  },
  {
   "cell_type": "code",
   "execution_count": 50,
   "metadata": {},
   "outputs": [],
   "source": [
    "del(l[::2])"
   ]
  },
  {
   "cell_type": "code",
   "execution_count": 51,
   "metadata": {},
   "outputs": [
    {
     "data": {
      "text/plain": [
       "['ccc', 'bbb']"
      ]
     },
     "execution_count": 51,
     "metadata": {},
     "output_type": "execute_result"
    }
   ],
   "source": [
    "l"
   ]
  },
  {
   "cell_type": "markdown",
   "metadata": {},
   "source": [
    "### **Ordenamento de listas**"
   ]
  },
  {
   "cell_type": "code",
   "execution_count": 53,
   "metadata": {},
   "outputs": [
    {
     "data": {
      "text/plain": [
       "['Luffy',\n",
       " 'Zoro',\n",
       " 'Usopp',\n",
       " 'Sanji',\n",
       " 'Nami',\n",
       " 'Chopper',\n",
       " 'Robin',\n",
       " 'Franky',\n",
       " 'Brook',\n",
       " 'Jinbe']"
      ]
     },
     "execution_count": 53,
     "metadata": {},
     "output_type": "execute_result"
    }
   ],
   "source": [
    "lista = ['Luffy', 'Zoro', 'Usopp', 'Sanji', 'Nami', 'Chopper', 'Robin', 'Franky', 'Brook', 'Jinbe',]\n",
    "lista"
   ]
  },
  {
   "cell_type": "code",
   "execution_count": 54,
   "metadata": {},
   "outputs": [],
   "source": [
    "#Lê a lista de trás pra frente\n",
    "\n",
    "lista.reverse()"
   ]
  },
  {
   "cell_type": "code",
   "execution_count": 55,
   "metadata": {},
   "outputs": [
    {
     "data": {
      "text/plain": [
       "['Jinbe',\n",
       " 'Brook',\n",
       " 'Franky',\n",
       " 'Robin',\n",
       " 'Chopper',\n",
       " 'Nami',\n",
       " 'Sanji',\n",
       " 'Usopp',\n",
       " 'Zoro',\n",
       " 'Luffy']"
      ]
     },
     "execution_count": 55,
     "metadata": {},
     "output_type": "execute_result"
    }
   ],
   "source": [
    "lista"
   ]
  },
  {
   "cell_type": "code",
   "execution_count": 56,
   "metadata": {},
   "outputs": [],
   "source": [
    "# Ordernar de forma ascendente através do sort\n",
    "\n",
    "lista.sort()"
   ]
  },
  {
   "cell_type": "code",
   "execution_count": 57,
   "metadata": {},
   "outputs": [
    {
     "data": {
      "text/plain": [
       "['Brook',\n",
       " 'Chopper',\n",
       " 'Franky',\n",
       " 'Jinbe',\n",
       " 'Luffy',\n",
       " 'Nami',\n",
       " 'Robin',\n",
       " 'Sanji',\n",
       " 'Usopp',\n",
       " 'Zoro']"
      ]
     },
     "execution_count": 57,
     "metadata": {},
     "output_type": "execute_result"
    }
   ],
   "source": [
    "lista"
   ]
  },
  {
   "cell_type": "code",
   "execution_count": 58,
   "metadata": {},
   "outputs": [],
   "source": [
    "lista.sort(reverse=True)"
   ]
  },
  {
   "cell_type": "code",
   "execution_count": 59,
   "metadata": {},
   "outputs": [
    {
     "data": {
      "text/plain": [
       "['Zoro',\n",
       " 'Usopp',\n",
       " 'Sanji',\n",
       " 'Robin',\n",
       " 'Nami',\n",
       " 'Luffy',\n",
       " 'Jinbe',\n",
       " 'Franky',\n",
       " 'Chopper',\n",
       " 'Brook']"
      ]
     },
     "execution_count": 59,
     "metadata": {},
     "output_type": "execute_result"
    }
   ],
   "source": [
    "lista"
   ]
  },
  {
   "cell_type": "markdown",
   "metadata": {},
   "source": [
    "### **Listas - Quantidades de listas**"
   ]
  },
  {
   "cell_type": "code",
   "execution_count": 60,
   "metadata": {},
   "outputs": [],
   "source": [
    "lista = ['Luffy', 'Zoro', 'Usopp', 'Sanji', 'Nami', 'Chopper', 'Robin', 'Franky', 'Brook', 'Jinbe',]"
   ]
  },
  {
   "cell_type": "code",
   "execution_count": 61,
   "metadata": {},
   "outputs": [
    {
     "data": {
      "text/plain": [
       "['Luffy',\n",
       " 'Zoro',\n",
       " 'Usopp',\n",
       " 'Sanji',\n",
       " 'Nami',\n",
       " 'Chopper',\n",
       " 'Robin',\n",
       " 'Franky',\n",
       " 'Brook',\n",
       " 'Jinbe']"
      ]
     },
     "execution_count": 61,
     "metadata": {},
     "output_type": "execute_result"
    }
   ],
   "source": [
    "lista"
   ]
  },
  {
   "cell_type": "code",
   "execution_count": 62,
   "metadata": {},
   "outputs": [
    {
     "data": {
      "text/plain": [
       "10"
      ]
     },
     "execution_count": 62,
     "metadata": {},
     "output_type": "execute_result"
    }
   ],
   "source": [
    "len(lista)"
   ]
  },
  {
   "cell_type": "code",
   "execution_count": 64,
   "metadata": {},
   "outputs": [
    {
     "data": {
      "text/plain": [
       "'Jinbe'"
      ]
     },
     "execution_count": 64,
     "metadata": {},
     "output_type": "execute_result"
    }
   ],
   "source": [
    "lista[len(lista)-1]"
   ]
  },
  {
   "cell_type": "code",
   "execution_count": 66,
   "metadata": {},
   "outputs": [
    {
     "data": {
      "text/plain": [
       "'Franky'"
      ]
     },
     "execution_count": 66,
     "metadata": {},
     "output_type": "execute_result"
    }
   ],
   "source": [
    "lista[-3]"
   ]
  },
  {
   "cell_type": "code",
   "execution_count": 67,
   "metadata": {},
   "outputs": [
    {
     "data": {
      "text/plain": [
       "'Luffy'"
      ]
     },
     "execution_count": 67,
     "metadata": {},
     "output_type": "execute_result"
    }
   ],
   "source": [
    "lista[-10]"
   ]
  },
  {
   "cell_type": "code",
   "execution_count": 77,
   "metadata": {},
   "outputs": [],
   "source": [
    "lista = ['Luffy', 'Zoro', 'Usopp', 'Sanji', 'Nami', 'Chopper', 'Robin', 'Franky', 'Brook', 'Jinbe',]"
   ]
  },
  {
   "cell_type": "code",
   "execution_count": 78,
   "metadata": {},
   "outputs": [],
   "source": [
    "lista.insert(5, 'Luffy')"
   ]
  },
  {
   "cell_type": "code",
   "execution_count": 79,
   "metadata": {},
   "outputs": [
    {
     "data": {
      "text/plain": [
       "['Luffy',\n",
       " 'Zoro',\n",
       " 'Usopp',\n",
       " 'Sanji',\n",
       " 'Nami',\n",
       " 'Luffy',\n",
       " 'Chopper',\n",
       " 'Robin',\n",
       " 'Franky',\n",
       " 'Brook',\n",
       " 'Jinbe']"
      ]
     },
     "execution_count": 79,
     "metadata": {},
     "output_type": "execute_result"
    }
   ],
   "source": [
    "lista"
   ]
  },
  {
   "cell_type": "code",
   "execution_count": 80,
   "metadata": {},
   "outputs": [],
   "source": [
    "lista.append('Luffy')"
   ]
  },
  {
   "cell_type": "code",
   "execution_count": 81,
   "metadata": {},
   "outputs": [
    {
     "data": {
      "text/plain": [
       "['Luffy',\n",
       " 'Zoro',\n",
       " 'Usopp',\n",
       " 'Sanji',\n",
       " 'Nami',\n",
       " 'Luffy',\n",
       " 'Chopper',\n",
       " 'Robin',\n",
       " 'Franky',\n",
       " 'Brook',\n",
       " 'Jinbe',\n",
       " 'Luffy']"
      ]
     },
     "execution_count": 81,
     "metadata": {},
     "output_type": "execute_result"
    }
   ],
   "source": [
    "lista"
   ]
  },
  {
   "cell_type": "code",
   "execution_count": 82,
   "metadata": {},
   "outputs": [
    {
     "data": {
      "text/plain": [
       "3"
      ]
     },
     "execution_count": 82,
     "metadata": {},
     "output_type": "execute_result"
    }
   ],
   "source": [
    "# Saber a qtde de elementos repetidos da lista\n",
    "\n",
    "lista.count('Luffy')"
   ]
  },
  {
   "cell_type": "code",
   "execution_count": 83,
   "metadata": {},
   "outputs": [
    {
     "data": {
      "text/plain": [
       "1"
      ]
     },
     "execution_count": 83,
     "metadata": {},
     "output_type": "execute_result"
    }
   ],
   "source": [
    "lista.count('Nami')"
   ]
  },
  {
   "cell_type": "code",
   "execution_count": 85,
   "metadata": {},
   "outputs": [
    {
     "data": {
      "text/plain": [
       "4"
      ]
     },
     "execution_count": 85,
     "metadata": {},
     "output_type": "execute_result"
    }
   ],
   "source": [
    "# Posição de determinado elemento na lista\n",
    "\n",
    "lista.index('Nami')"
   ]
  },
  {
   "cell_type": "code",
   "execution_count": 87,
   "metadata": {},
   "outputs": [
    {
     "data": {
      "text/plain": [
       "0"
      ]
     },
     "execution_count": 87,
     "metadata": {},
     "output_type": "execute_result"
    }
   ],
   "source": [
    "# para repetições, a função index retorna somente a primeira ocorrência do elemento\n",
    "lista.index('Luffy')"
   ]
  },
  {
   "cell_type": "markdown",
   "metadata": {},
   "source": [
    "## **Tuplas**"
   ]
  },
  {
   "cell_type": "markdown",
   "metadata": {},
   "source": [
    "### **Uma ***Tupla*** pode conter 0 ou 'n' elementos de tipos iguais ou distintos.**"
   ]
  },
  {
   "cell_type": "markdown",
   "metadata": {},
   "source": [
    "### **Seus elementos são *ReadOnly* (somente leitura). Em uma ***lista*** as informações são, geralmente, do mesmo tipo, já em uma ***tupla***, geralmente, serão de tipos distintos.**"
   ]
  },
  {
   "cell_type": "code",
   "execution_count": 88,
   "metadata": {},
   "outputs": [],
   "source": [
    "# Definindo uma tupla\n",
    "\n",
    "t = tuple('abc')"
   ]
  },
  {
   "cell_type": "code",
   "execution_count": 89,
   "metadata": {},
   "outputs": [
    {
     "data": {
      "text/plain": [
       "('a', 'b', 'c')"
      ]
     },
     "execution_count": 89,
     "metadata": {},
     "output_type": "execute_result"
    }
   ],
   "source": [
    "t"
   ]
  },
  {
   "cell_type": "code",
   "execution_count": 92,
   "metadata": {},
   "outputs": [
    {
     "data": {
      "text/plain": [
       "(1, 2, 3)"
      ]
     },
     "execution_count": 92,
     "metadata": {},
     "output_type": "execute_result"
    }
   ],
   "source": [
    "(1,2,3)"
   ]
  },
  {
   "cell_type": "code",
   "execution_count": 93,
   "metadata": {},
   "outputs": [
    {
     "data": {
      "text/plain": [
       "tuple"
      ]
     },
     "execution_count": 93,
     "metadata": {},
     "output_type": "execute_result"
    }
   ],
   "source": [
    "type((1,2,3))"
   ]
  },
  {
   "cell_type": "code",
   "execution_count": 94,
   "metadata": {},
   "outputs": [
    {
     "data": {
      "text/plain": [
       "('aaa', 2, True)"
      ]
     },
     "execution_count": 94,
     "metadata": {},
     "output_type": "execute_result"
    }
   ],
   "source": [
    "'aaa', 2, True"
   ]
  },
  {
   "cell_type": "code",
   "execution_count": 96,
   "metadata": {},
   "outputs": [
    {
     "data": {
      "text/plain": [
       "('aaa', 2, True)"
      ]
     },
     "execution_count": 96,
     "metadata": {},
     "output_type": "execute_result"
    }
   ],
   "source": [
    "x = 'aaa', 2, True\n",
    "x"
   ]
  },
  {
   "cell_type": "code",
   "execution_count": 97,
   "metadata": {},
   "outputs": [
    {
     "data": {
      "text/plain": [
       "tuple"
      ]
     },
     "execution_count": 97,
     "metadata": {},
     "output_type": "execute_result"
    }
   ],
   "source": [
    "type(x)"
   ]
  },
  {
   "cell_type": "code",
   "execution_count": 98,
   "metadata": {},
   "outputs": [
    {
     "ename": "AttributeError",
     "evalue": "'tuple' object has no attribute 'append'",
     "output_type": "error",
     "traceback": [
      "\u001b[0;31m---------------------------------------------------------------------------\u001b[0m",
      "\u001b[0;31mAttributeError\u001b[0m                            Traceback (most recent call last)",
      "\u001b[0;32m<ipython-input-98-515c7c0408e6>\u001b[0m in \u001b[0;36m<module>\u001b[0;34m\u001b[0m\n\u001b[0;32m----> 1\u001b[0;31m \u001b[0mx\u001b[0m\u001b[0;34m.\u001b[0m\u001b[0mappend\u001b[0m\u001b[0;34m(\u001b[0m\u001b[0;34m\"xxx\"\u001b[0m\u001b[0;34m)\u001b[0m\u001b[0;34m\u001b[0m\u001b[0;34m\u001b[0m\u001b[0m\n\u001b[0m",
      "\u001b[0;31mAttributeError\u001b[0m: 'tuple' object has no attribute 'append'"
     ]
    }
   ],
   "source": [
    "# A Tupla é somente ReadOnly, logo, não é possível realizar alterações\n",
    "x.append(\"xxx\")"
   ]
  },
  {
   "cell_type": "markdown",
   "metadata": {},
   "source": [
    "## **Operadores IN e NOT IN**"
   ]
  },
  {
   "cell_type": "code",
   "execution_count": 99,
   "metadata": {},
   "outputs": [
    {
     "data": {
      "text/plain": [
       "True"
      ]
     },
     "execution_count": 99,
     "metadata": {},
     "output_type": "execute_result"
    }
   ],
   "source": [
    "# contido em => IN ou não está contido => NOT IN\n",
    "\n",
    "2 in (1,2,3,4,5)"
   ]
  },
  {
   "cell_type": "code",
   "execution_count": 100,
   "metadata": {},
   "outputs": [
    {
     "data": {
      "text/plain": [
       "True"
      ]
     },
     "execution_count": 100,
     "metadata": {},
     "output_type": "execute_result"
    }
   ],
   "source": [
    "6 not in (1,2,3,4,5)"
   ]
  },
  {
   "cell_type": "code",
   "execution_count": 103,
   "metadata": {},
   "outputs": [
    {
     "data": {
      "text/plain": [
       "True"
      ]
     },
     "execution_count": 103,
     "metadata": {},
     "output_type": "execute_result"
    }
   ],
   "source": [
    "1 in range(1, 6,)"
   ]
  },
  {
   "cell_type": "code",
   "execution_count": 104,
   "metadata": {},
   "outputs": [
    {
     "name": "stdout",
     "output_type": "stream",
     "text": [
      "Esta contido\n"
     ]
    }
   ],
   "source": [
    "x = range(1, 6)\n",
    "if 3 in x:\n",
    "  print('Esta contido')\n",
    "else:\n",
    "  print('Não esta contido')"
   ]
  },
  {
   "cell_type": "markdown",
   "metadata": {},
   "source": [
    "## **Operadores AND, OR IN**"
   ]
  },
  {
   "cell_type": "code",
   "execution_count": 1,
   "metadata": {},
   "outputs": [
    {
     "data": {
      "text/plain": [
       "False"
      ]
     },
     "execution_count": 1,
     "metadata": {},
     "output_type": "execute_result"
    }
   ],
   "source": [
    "# Verificando se um ou mais valores estão contido/são verdadeiros\n",
    "\n",
    "((1 and 6) or (5 and 6)) in range (1,6)"
   ]
  },
  {
   "cell_type": "code",
   "execution_count": 2,
   "metadata": {},
   "outputs": [
    {
     "data": {
      "text/plain": [
       "True"
      ]
     },
     "execution_count": 2,
     "metadata": {},
     "output_type": "execute_result"
    }
   ],
   "source": [
    "((1 and 3) or (5 and 6)) in range (1,6)"
   ]
  },
  {
   "cell_type": "code",
   "execution_count": 3,
   "metadata": {},
   "outputs": [
    {
     "data": {
      "text/plain": [
       "False"
      ]
     },
     "execution_count": 3,
     "metadata": {},
     "output_type": "execute_result"
    }
   ],
   "source": [
    "# O python verifica o primeiro elemento, se ele não estiver contido, ele não continua a verificação\n",
    "(10 or 2) in range(1, 6)"
   ]
  },
  {
   "cell_type": "code",
   "execution_count": 4,
   "metadata": {},
   "outputs": [
    {
     "data": {
      "text/plain": [
       "False"
      ]
     },
     "execution_count": 4,
     "metadata": {},
     "output_type": "execute_result"
    }
   ],
   "source": [
    "((5 and 6) or (1 and 3)) in range(1,6)"
   ]
  },
  {
   "cell_type": "markdown",
   "metadata": {},
   "source": [
    "## **Exemplos de operadores IN**"
   ]
  },
  {
   "cell_type": "code",
   "execution_count": 2,
   "metadata": {},
   "outputs": [
    {
     "name": "stdout",
     "output_type": "stream",
     "text": [
      "Não está contido\n"
     ]
    }
   ],
   "source": [
    "a = 10 \n",
    "b = 25\n",
    "c = 66\n",
    "\n",
    "x = int(input(\"Digite um numere: \"))\n",
    "\n",
    "if(x == a or x == b or x == c):\n",
    "  print(\"EStá contido\")\n",
    "else:\n",
    "  print(\"Não está contido\")"
   ]
  },
  {
   "cell_type": "code",
   "execution_count": 6,
   "metadata": {},
   "outputs": [
    {
     "name": "stdout",
     "output_type": "stream",
     "text": [
      "Não está contido\n"
     ]
    }
   ],
   "source": [
    "#Utilizando listas\n",
    "a = 10 \n",
    "b = 25\n",
    "c = 66\n",
    "\n",
    "x = int(input(\"Digite um numere: \"))\n",
    "\n",
    "#x = [10, 25, 66]\n",
    "if(x in [a, b, c]):\n",
    "  print(\"EStá contido\")\n",
    "else:\n",
    "  print(\"Não está contido\")"
   ]
  },
  {
   "cell_type": "code",
   "execution_count": 1,
   "metadata": {},
   "outputs": [],
   "source": [
    "cores = ['azul', 'amarelo', 'vermelho', 'branco']"
   ]
  },
  {
   "cell_type": "code",
   "execution_count": 2,
   "metadata": {},
   "outputs": [
    {
     "name": "stdout",
     "output_type": "stream",
     "text": [
      "Está contida\n",
      "Não está contida\n",
      "Não está contida\n"
     ]
    }
   ],
   "source": [
    "while True:\n",
    "  cor = input(\"Digite o nome da cor: \"\n",
    "              \"Digite 0 para sair: \")\n",
    "  \n",
    "  if(cor=='0'):\n",
    "    break\n",
    "  elif cor in cores:\n",
    "    print('Está contida')\n",
    "  else:\n",
    "    print('Não está contida')\n",
    "\n",
    "    # Entradas:\n",
    "    # azul\n",
    "    # rosa\n",
    "    # Amarelo"
   ]
  },
  {
   "cell_type": "markdown",
   "metadata": {},
   "source": [
    "## **Introdução as Strings**"
   ]
  },
  {
   "cell_type": "markdown",
   "metadata": {},
   "source": [
    "### Qualquer tipo de texto entre aspas ou aspas simples.\n",
    "    'Texto entre aspas simples'\n",
    "    \"Texto entre aspas duplas\"\n",
    "\n",
    "    Strings ocm várias linhas:\n",
    "    ''' string com 3 aspas simples '''\n",
    "    \"\"\" string com 3 aspas simples \"\"\""
   ]
  },
  {
   "cell_type": "code",
   "execution_count": 3,
   "metadata": {},
   "outputs": [
    {
     "name": "stdout",
     "output_type": "stream",
     "text": [
      "string com aspas simples\n"
     ]
    }
   ],
   "source": [
    "s1 = 'string com aspas simples'\n",
    "print(s1)"
   ]
  },
  {
   "cell_type": "code",
   "execution_count": 4,
   "metadata": {},
   "outputs": [
    {
     "name": "stdout",
     "output_type": "stream",
     "text": [
      "string com aspas duplas\n"
     ]
    }
   ],
   "source": [
    "s2 = \"string com aspas duplas\"\n",
    "print(s2)"
   ]
  },
  {
   "cell_type": "code",
   "execution_count": 5,
   "metadata": {},
   "outputs": [
    {
     "name": "stdout",
     "output_type": "stream",
     "text": [
      "aaaaaaa\n",
      "bbbbbbb\n",
      "ccccccc\n",
      "ddddddd\n"
     ]
    }
   ],
   "source": [
    "s3 = '''aaaaaaa\n",
    "bbbbbbb\n",
    "ccccccc\n",
    "ddddddd'''\n",
    "print(s3)"
   ]
  },
  {
   "cell_type": "code",
   "execution_count": 7,
   "metadata": {},
   "outputs": [
    {
     "name": "stdout",
     "output_type": "stream",
     "text": [
      "uuuU\n",
      "iiii\n",
      "oooo\n",
      "uuuu\n"
     ]
    }
   ],
   "source": [
    "s4 = \"\"\"uuuU\n",
    "iiii\n",
    "oooo\n",
    "uuuu\"\"\"\n",
    "print(s4)"
   ]
  },
  {
   "cell_type": "markdown",
   "metadata": {},
   "source": [
    "### **Fatiando Strings**"
   ]
  },
  {
   "cell_type": "markdown",
   "metadata": {},
   "source": [
    "    Python manipula String como sendo listas de caracteres, assim, todas as funções que nós utilizávamos para manipular listas, podem também, serem utilizadas com Strings."
   ]
  },
  {
   "cell_type": "code",
   "execution_count": 12,
   "metadata": {},
   "outputs": [],
   "source": [
    "s = \"Para o python, toda string é uma lista imutável.\""
   ]
  },
  {
   "cell_type": "code",
   "execution_count": 13,
   "metadata": {},
   "outputs": [
    {
     "data": {
      "text/plain": [
       "'P'"
      ]
     },
     "execution_count": 13,
     "metadata": {},
     "output_type": "execute_result"
    }
   ],
   "source": [
    "#Retornar o primeiro caracter da string\n",
    "s[0]"
   ]
  },
  {
   "cell_type": "code",
   "execution_count": 14,
   "metadata": {},
   "outputs": [
    {
     "data": {
      "text/plain": [
       "'.'"
      ]
     },
     "execution_count": 14,
     "metadata": {},
     "output_type": "execute_result"
    }
   ],
   "source": [
    "#Retornar o último caracter da string\n",
    "s[-1]"
   ]
  },
  {
   "cell_type": "code",
   "execution_count": 15,
   "metadata": {},
   "outputs": [
    {
     "data": {
      "text/plain": [
       "str"
      ]
     },
     "execution_count": 15,
     "metadata": {},
     "output_type": "execute_result"
    }
   ],
   "source": [
    "# Tudo são strings!\n",
    "type(s[0])"
   ]
  },
  {
   "cell_type": "code",
   "execution_count": 17,
   "metadata": {},
   "outputs": [
    {
     "data": {
      "text/plain": [
       "'Para o py'"
      ]
     },
     "execution_count": 17,
     "metadata": {},
     "output_type": "execute_result"
    }
   ],
   "source": [
    "#Retornar o caracter da string dentro do intervalo definido\n",
    "s[0:9:]"
   ]
  },
  {
   "cell_type": "code",
   "execution_count": 18,
   "metadata": {},
   "outputs": [
    {
     "data": {
      "text/plain": [
       "'.levátumi atsil amu é gnirts adot ,nohtyp o araP'"
      ]
     },
     "execution_count": 18,
     "metadata": {},
     "output_type": "execute_result"
    }
   ],
   "source": [
    "s[::-1]"
   ]
  },
  {
   "cell_type": "markdown",
   "metadata": {},
   "source": [
    "### **Propriedades das Strings**"
   ]
  },
  {
   "cell_type": "code",
   "execution_count": 19,
   "metadata": {},
   "outputs": [],
   "source": [
    "s = 'lista de caracteres'"
   ]
  },
  {
   "cell_type": "code",
   "execution_count": 20,
   "metadata": {},
   "outputs": [
    {
     "data": {
      "text/plain": [
       "19"
      ]
     },
     "execution_count": 20,
     "metadata": {},
     "output_type": "execute_result"
    }
   ],
   "source": [
    "#Quantidade de caracteres na string\n",
    "len(s)"
   ]
  },
  {
   "cell_type": "code",
   "execution_count": 21,
   "metadata": {},
   "outputs": [
    {
     "data": {
      "text/plain": [
       "['lista', 'de', 'caracteres']"
      ]
     },
     "execution_count": 21,
     "metadata": {},
     "output_type": "execute_result"
    }
   ],
   "source": [
    "#'Alterando' a string\n",
    "s.split(\" \")"
   ]
  },
  {
   "cell_type": "code",
   "execution_count": 22,
   "metadata": {},
   "outputs": [
    {
     "data": {
      "text/plain": [
       "['lista', 'de', 'caracteres']"
      ]
     },
     "execution_count": 22,
     "metadata": {},
     "output_type": "execute_result"
    }
   ],
   "source": [
    "lista = s.split(\" \")\n",
    "lista"
   ]
  },
  {
   "cell_type": "code",
   "execution_count": 23,
   "metadata": {},
   "outputs": [
    {
     "data": {
      "text/plain": [
       "'lista caracteres'"
      ]
     },
     "execution_count": 23,
     "metadata": {},
     "output_type": "execute_result"
    }
   ],
   "source": [
    "lista[0] + \" \" + lista[2]"
   ]
  },
  {
   "cell_type": "code",
   "execution_count": 24,
   "metadata": {},
   "outputs": [],
   "source": [
    "s = 'lista de caracteres'"
   ]
  },
  {
   "cell_type": "code",
   "execution_count": 25,
   "metadata": {},
   "outputs": [
    {
     "data": {
      "text/plain": [
       "'lista  caracteres'"
      ]
     },
     "execution_count": 25,
     "metadata": {},
     "output_type": "execute_result"
    }
   ],
   "source": [
    "#Substituindo uma parte da string\n",
    "s.replace(\"de\", \"\")"
   ]
  },
  {
   "cell_type": "code",
   "execution_count": 26,
   "metadata": {},
   "outputs": [
    {
     "data": {
      "text/plain": [
       "140154731815680"
      ]
     },
     "execution_count": 26,
     "metadata": {},
     "output_type": "execute_result"
    }
   ],
   "source": [
    "id(s)"
   ]
  },
  {
   "cell_type": "code",
   "execution_count": 27,
   "metadata": {},
   "outputs": [
    {
     "data": {
      "text/plain": [
       "140154731793664"
      ]
     },
     "execution_count": 27,
     "metadata": {},
     "output_type": "execute_result"
    }
   ],
   "source": [
    "id(s.replace(\"de\", \"\"))"
   ]
  },
  {
   "cell_type": "markdown",
   "metadata": {},
   "source": [
    "### **Comparando strings**"
   ]
  },
  {
   "cell_type": "markdown",
   "metadata": {},
   "source": [
    "#### Relação entre strings distintas"
   ]
  },
  {
   "cell_type": "markdown",
   "metadata": {},
   "source": [
    "#### **Tabela ASCII**"
   ]
  },
  {
   "cell_type": "code",
   "execution_count": 28,
   "metadata": {},
   "outputs": [
    {
     "data": {
      "text/plain": [
       "True"
      ]
     },
     "execution_count": 28,
     "metadata": {},
     "output_type": "execute_result"
    }
   ],
   "source": [
    "\"a\">\"X\""
   ]
  },
  {
   "cell_type": "code",
   "execution_count": 29,
   "metadata": {},
   "outputs": [
    {
     "data": {
      "text/plain": [
       "True"
      ]
     },
     "execution_count": 29,
     "metadata": {},
     "output_type": "execute_result"
    }
   ],
   "source": [
    "\"a\">\"1\""
   ]
  },
  {
   "cell_type": "code",
   "execution_count": 30,
   "metadata": {},
   "outputs": [
    {
     "data": {
      "text/plain": [
       "'d'"
      ]
     },
     "execution_count": 30,
     "metadata": {},
     "output_type": "execute_result"
    }
   ],
   "source": [
    "# Função para retornar o caracter relacionado com cada valor\n",
    "chr(100)"
   ]
  },
  {
   "cell_type": "code",
   "execution_count": 31,
   "metadata": {},
   "outputs": [
    {
     "data": {
      "text/plain": [
       "100"
      ]
     },
     "execution_count": 31,
     "metadata": {},
     "output_type": "execute_result"
    }
   ],
   "source": [
    "#Função para retornar o valor relacionado com cada caracter\n",
    "\n",
    "ord(\"d\")"
   ]
  },
  {
   "cell_type": "code",
   "execution_count": 34,
   "metadata": {},
   "outputs": [
    {
     "name": "stdout",
     "output_type": "stream",
     "text": [
      "0 - \u0000\n",
      "1 - \u0001\n",
      "2 - \u0002\n",
      "3 - \u0003\n",
      "4 - \u0004\n",
      "5 - \u0005\n",
      "6 - \u0006\n",
      "7 - \u0007\n",
      "8 -\n",
      "9 - \t\n",
      "10 - \n",
      "\n",
      "11 - \u000b\n",
      "12 - \f\n",
      "13 - \n",
      "14 - \u000e\n",
      "15 - \u000f\n",
      "16 - \u0010\n",
      "17 - \u0011\n",
      "18 - \u0012\n",
      "19 - \u0013\n",
      "20 - \u0014\n",
      "21 - \u0015\n",
      "22 - \u0016\n",
      "23 - \u0017\n",
      "24 - \u0018\n",
      "25 - \u0019\n",
      "26 - \u001a\n",
      "27 - \u001b\n",
      "28 - \u001c\n",
      "29 - \u001d\n",
      "30 - \u001e\n",
      "31 - \u001f\n",
      "32 -  \n",
      "33 - !\n",
      "34 - \"\n",
      "35 - #\n",
      "36 - $\n",
      "37 - %\n",
      "38 - &\n",
      "39 - '\n",
      "40 - (\n",
      "41 - )\n",
      "42 - *\n",
      "43 - +\n",
      "44 - ,\n",
      "45 - -\n",
      "46 - .\n",
      "47 - /\n",
      "48 - 0\n",
      "49 - 1\n",
      "50 - 2\n",
      "51 - 3\n",
      "52 - 4\n",
      "53 - 5\n",
      "54 - 6\n",
      "55 - 7\n",
      "56 - 8\n",
      "57 - 9\n",
      "58 - :\n",
      "59 - ;\n",
      "60 - <\n",
      "61 - =\n",
      "62 - >\n",
      "63 - ?\n",
      "64 - @\n",
      "65 - A\n",
      "66 - B\n",
      "67 - C\n",
      "68 - D\n",
      "69 - E\n",
      "70 - F\n",
      "71 - G\n",
      "72 - H\n",
      "73 - I\n",
      "74 - J\n",
      "75 - K\n",
      "76 - L\n",
      "77 - M\n",
      "78 - N\n",
      "79 - O\n",
      "80 - P\n",
      "81 - Q\n",
      "82 - R\n",
      "83 - S\n",
      "84 - T\n",
      "85 - U\n",
      "86 - V\n",
      "87 - W\n",
      "88 - X\n",
      "89 - Y\n",
      "90 - Z\n",
      "91 - [\n",
      "92 - \\\n",
      "93 - ]\n",
      "94 - ^\n",
      "95 - _\n",
      "96 - `\n",
      "97 - a\n",
      "98 - b\n",
      "99 - c\n",
      "100 - d\n",
      "101 - e\n",
      "102 - f\n",
      "103 - g\n",
      "104 - h\n",
      "105 - i\n",
      "106 - j\n",
      "107 - k\n",
      "108 - l\n",
      "109 - m\n",
      "110 - n\n",
      "111 - o\n",
      "112 - p\n",
      "113 - q\n",
      "114 - r\n",
      "115 - s\n",
      "116 - t\n",
      "117 - u\n",
      "118 - v\n",
      "119 - w\n",
      "120 - x\n",
      "121 - y\n"
     ]
    }
   ],
   "source": [
    "for c in range(122):\n",
    "  print(str(c) + \" - \" + chr(c))"
   ]
  },
  {
   "cell_type": "markdown",
   "metadata": {},
   "source": [
    "## **Iterando Strings**"
   ]
  },
  {
   "cell_type": "code",
   "execution_count": 35,
   "metadata": {},
   "outputs": [
    {
     "name": "stdout",
     "output_type": "stream",
     "text": [
      "I\n",
      "t\n",
      "e\n",
      "r\n",
      "n\n",
      "a\n",
      "d\n",
      "o\n",
      " \n",
      "s\n",
      "t\n",
      "r\n",
      "i\n",
      "n\n",
      "g\n",
      "s\n"
     ]
    }
   ],
   "source": [
    "#Exemplo 1\n",
    "s = 'Iternado strings'\n",
    "\n",
    "for c in s:\n",
    "  print(c)"
   ]
  },
  {
   "cell_type": "code",
   "execution_count": 36,
   "metadata": {},
   "outputs": [
    {
     "name": "stdout",
     "output_type": "stream",
     "text": [
      "0 I\n",
      "1 t\n",
      "2 e\n",
      "3 r\n",
      "4 a\n",
      "5 n\n",
      "6 d\n",
      "7 o\n",
      "8  \n",
      "9 s\n",
      "10 t\n",
      "11 r\n",
      "12 i\n",
      "13 n\n",
      "14 g\n",
      "15 s\n"
     ]
    }
   ],
   "source": [
    "#Exemplo 2\n",
    "s = \"Iterando strings\"\n",
    "indice = 0\n",
    "\n",
    "while indice < len(s):\n",
    "  print(indice, s[indice])\n",
    "  indice+=1"
   ]
  },
  {
   "cell_type": "code",
   "execution_count": 37,
   "metadata": {},
   "outputs": [
    {
     "name": "stdout",
     "output_type": "stream",
     "text": [
      "0 i\n",
      "1 t\n",
      "2 e\n",
      "3 r\n",
      "4 a\n",
      "5 n\n",
      "6 d\n",
      "7 o\n",
      "8  \n",
      "9 s\n",
      "10 t\n",
      "11 r\n",
      "12 i\n",
      "13 n\n",
      "14 g\n",
      "15 s\n"
     ]
    }
   ],
   "source": [
    "#Exemplo 3\n",
    "\n",
    "for k,v in enumerate('iterando strings'):\n",
    "  print(k, v)"
   ]
  },
  {
   "cell_type": "markdown",
   "metadata": {},
   "source": [
    "## **Introdução aos Dicionários**"
   ]
  },
  {
   "cell_type": "markdown",
   "metadata": {},
   "source": [
    "    Tipo de lista não ordenada onde cada elemento está associado a uma chave. Todos os índices (chaves) deve ser únicos."
   ]
  },
  {
   "cell_type": "markdown",
   "metadata": {},
   "source": [
    "<img src=\"images/dicionario.png\" alt=\"Exemplo de dicionário\">"
   ]
  },
  {
   "cell_type": "markdown",
   "metadata": {},
   "source": [
    "## **Dicionários na prática**"
   ]
  },
  {
   "cell_type": "code",
   "execution_count": 39,
   "metadata": {},
   "outputs": [
    {
     "data": {
      "text/plain": [
       "{'aaa': 1000}"
      ]
     },
     "execution_count": 39,
     "metadata": {},
     "output_type": "execute_result"
    }
   ],
   "source": [
    "d1 = {}\n",
    "d1['aaa'] = 1000\n",
    "d1"
   ]
  },
  {
   "cell_type": "code",
   "execution_count": 42,
   "metadata": {},
   "outputs": [
    {
     "data": {
      "text/plain": [
       "{'aaa': 1000, 'bbb': 2000, 'ccc': 3000}"
      ]
     },
     "execution_count": 42,
     "metadata": {},
     "output_type": "execute_result"
    }
   ],
   "source": [
    "d2 = {}\n",
    "d2['bbb'] = 2000\n",
    "d1['bbb'] = 2000\n",
    "d1['ccc'] = 3000\n",
    "d1"
   ]
  },
  {
   "cell_type": "code",
   "execution_count": 43,
   "metadata": {},
   "outputs": [
    {
     "data": {
      "text/plain": [
       "2000"
      ]
     },
     "execution_count": 43,
     "metadata": {},
     "output_type": "execute_result"
    }
   ],
   "source": [
    "d1['bbb']"
   ]
  },
  {
   "cell_type": "code",
   "execution_count": 54,
   "metadata": {},
   "outputs": [
    {
     "data": {
      "text/plain": [
       "{1.1: 'teste1', 2.2: 'teste2', 3: 'teste3'}"
      ]
     },
     "execution_count": 54,
     "metadata": {},
     "output_type": "execute_result"
    }
   ],
   "source": [
    "d2 = {1.1: \"teste1\", 2.2: \"teste2\", 3: \"teste3\"}\n",
    "d2"
   ]
  },
  {
   "cell_type": "code",
   "execution_count": 46,
   "metadata": {},
   "outputs": [
    {
     "data": {
      "text/plain": [
       "'teste1'"
      ]
     },
     "execution_count": 46,
     "metadata": {},
     "output_type": "execute_result"
    }
   ],
   "source": [
    "d2[1.1]"
   ]
  },
  {
   "cell_type": "code",
   "execution_count": 55,
   "metadata": {},
   "outputs": [
    {
     "data": {
      "text/plain": [
       "'teste2'"
      ]
     },
     "execution_count": 55,
     "metadata": {},
     "output_type": "execute_result"
    }
   ],
   "source": [
    "d2[2.2]"
   ]
  },
  {
   "cell_type": "markdown",
   "metadata": {},
   "source": [
    "## **Funções dos Dicionários**"
   ]
  },
  {
   "cell_type": "code",
   "execution_count": 56,
   "metadata": {},
   "outputs": [
    {
     "name": "stdout",
     "output_type": "stream",
     "text": [
      "{30202910: 'Luffy', 30245910: 'Nami', 30276910: 'Zoro', 30202543: 'Usopp'}\n"
     ]
    }
   ],
   "source": [
    "tel = {}\n",
    "tel = {\n",
    "    30202910: \"Luffy\",\n",
    "    30245910: \"Nami\",\n",
    "    30276910: \"Zoro\",\n",
    "    30202543: \"Usopp\"\n",
    "}\n",
    "print(tel)"
   ]
  },
  {
   "cell_type": "code",
   "execution_count": 57,
   "metadata": {},
   "outputs": [
    {
     "data": {
      "text/plain": [
       "4"
      ]
     },
     "execution_count": 57,
     "metadata": {},
     "output_type": "execute_result"
    }
   ],
   "source": [
    "len(tel)"
   ]
  },
  {
   "cell_type": "code",
   "execution_count": 58,
   "metadata": {},
   "outputs": [],
   "source": [
    "del(tel[30202910])"
   ]
  },
  {
   "cell_type": "code",
   "execution_count": 59,
   "metadata": {},
   "outputs": [
    {
     "data": {
      "text/plain": [
       "{30245910: 'Nami', 30276910: 'Zoro', 30202543: 'Usopp'}"
      ]
     },
     "execution_count": 59,
     "metadata": {},
     "output_type": "execute_result"
    }
   ],
   "source": [
    "tel"
   ]
  },
  {
   "cell_type": "code",
   "execution_count": 60,
   "metadata": {},
   "outputs": [
    {
     "data": {
      "text/plain": [
       "dict_keys([30245910, 30276910, 30202543])"
      ]
     },
     "execution_count": 60,
     "metadata": {},
     "output_type": "execute_result"
    }
   ],
   "source": [
    "tel.keys()"
   ]
  },
  {
   "cell_type": "code",
   "execution_count": 61,
   "metadata": {},
   "outputs": [
    {
     "data": {
      "text/plain": [
       "dict_values(['Nami', 'Zoro', 'Usopp'])"
      ]
     },
     "execution_count": 61,
     "metadata": {},
     "output_type": "execute_result"
    }
   ],
   "source": [
    "tel.values()"
   ]
  },
  {
   "cell_type": "code",
   "execution_count": 63,
   "metadata": {},
   "outputs": [
    {
     "data": {
      "text/plain": [
       "'Nami'"
      ]
     },
     "execution_count": 63,
     "metadata": {},
     "output_type": "execute_result"
    }
   ],
   "source": [
    "tel[30245910]"
   ]
  },
  {
   "cell_type": "code",
   "execution_count": 62,
   "metadata": {},
   "outputs": [
    {
     "data": {
      "text/plain": [
       "'Nami'"
      ]
     },
     "execution_count": 62,
     "metadata": {},
     "output_type": "execute_result"
    }
   ],
   "source": [
    "tel.get(30245910)"
   ]
  },
  {
   "cell_type": "code",
   "execution_count": 64,
   "metadata": {},
   "outputs": [],
   "source": [
    "tel = {\n",
    "    30202910: \"Luffy\",\n",
    "    30245910: \"Nami\",\n",
    "    30276910: \"Zoro\",\n",
    "    30202543: \"Usopp\"\n",
    "}"
   ]
  },
  {
   "cell_type": "code",
   "execution_count": 67,
   "metadata": {},
   "outputs": [
    {
     "data": {
      "text/plain": [
       "(30276910, 'Zoro')"
      ]
     },
     "execution_count": 67,
     "metadata": {},
     "output_type": "execute_result"
    }
   ],
   "source": [
    "#Retorna um elemento e remove ao mesmo tempo do dicionário\n",
    "tel.popitem()"
   ]
  },
  {
   "cell_type": "code",
   "execution_count": 68,
   "metadata": {},
   "outputs": [
    {
     "data": {
      "text/plain": [
       "{30202910: 'Luffy', 30245910: 'Nami'}"
      ]
     },
     "execution_count": 68,
     "metadata": {},
     "output_type": "execute_result"
    }
   ],
   "source": [
    "tel"
   ]
  },
  {
   "cell_type": "code",
   "execution_count": 69,
   "metadata": {},
   "outputs": [
    {
     "data": {
      "text/plain": [
       "True"
      ]
     },
     "execution_count": 69,
     "metadata": {},
     "output_type": "execute_result"
    }
   ],
   "source": [
    "#Verificar se está contido no dicionário\n",
    "30202910 in tel"
   ]
  },
  {
   "cell_type": "code",
   "execution_count": 70,
   "metadata": {},
   "outputs": [
    {
     "data": {
      "text/plain": [
       "False"
      ]
     },
     "execution_count": 70,
     "metadata": {},
     "output_type": "execute_result"
    }
   ],
   "source": [
    "3020233910 in tel"
   ]
  },
  {
   "cell_type": "markdown",
   "metadata": {},
   "source": [
    "    Adicionando ao dicionário"
   ]
  },
  {
   "cell_type": "code",
   "execution_count": 73,
   "metadata": {},
   "outputs": [],
   "source": [
    "tel = {\n",
    "    30202910: \"Luffy\",\n",
    "    30245910: \"Nami\",\n",
    "    30276910: \"Zoro\",\n",
    "    30202543: \"Usopp\"\n",
    "}"
   ]
  },
  {
   "cell_type": "code",
   "execution_count": 74,
   "metadata": {},
   "outputs": [],
   "source": [
    "tel2 = {9999999: \"teste1\", 555555555: \"teste2\"}"
   ]
  },
  {
   "cell_type": "code",
   "execution_count": 75,
   "metadata": {},
   "outputs": [
    {
     "data": {
      "text/plain": [
       "{30202910: 'Luffy',\n",
       " 30245910: 'Nami',\n",
       " 30276910: 'Zoro',\n",
       " 30202543: 'Usopp',\n",
       " 9999999: 'teste1',\n",
       " 555555555: 'teste2'}"
      ]
     },
     "execution_count": 75,
     "metadata": {},
     "output_type": "execute_result"
    }
   ],
   "source": [
    "tel.update(tel2)\n",
    "tel"
   ]
  },
  {
   "cell_type": "markdown",
   "metadata": {},
   "source": [
    "    Relacionando um elemento a uma tupla"
   ]
  },
  {
   "cell_type": "code",
   "execution_count": 77,
   "metadata": {},
   "outputs": [
    {
     "data": {
      "text/plain": [
       "{30202910: 'Luffy',\n",
       " 30245910: 'Nami',\n",
       " 30276910: 'Zoro',\n",
       " 30202543: 'Usopp',\n",
       " 9999999: 'teste1',\n",
       " 555555555: 'teste2',\n",
       " (10, 10, 10): 'eXcript'}"
      ]
     },
     "execution_count": 77,
     "metadata": {},
     "output_type": "execute_result"
    }
   ],
   "source": [
    "tel[(10, 10, 10)] = \"eXcript\"\n",
    "tel"
   ]
  },
  {
   "cell_type": "markdown",
   "metadata": {},
   "source": [
    "## **Introdução às Funções**"
   ]
  },
  {
   "cell_type": "markdown",
   "metadata": {},
   "source": [
    "## **Parâmetros de Função**"
   ]
  },
  {
   "cell_type": "markdown",
   "metadata": {},
   "source": [
    "## **Parâmetros default**"
   ]
  },
  {
   "cell_type": "markdown",
   "metadata": {},
   "source": [
    "## **Argumentos Nomeados vs Argumentos Posicionais**"
   ]
  },
  {
   "cell_type": "markdown",
   "metadata": {},
   "source": [
    "## **Retorno de Valores por Funções**"
   ]
  },
  {
   "cell_type": "markdown",
   "metadata": {},
   "source": [
    "## **Retorno de valores múltiplos**"
   ]
  },
  {
   "cell_type": "markdown",
   "metadata": {},
   "source": [
    "## **Funções Variádicas**"
   ]
  },
  {
   "cell_type": "markdown",
   "metadata": {},
   "source": [
    "## **OBJETOS**\n",
    "### Convencionou-se dizer que em Python tudo é um objeto. De fato, Python é uma linguagem orientada a objetos.\n",
    "### Objetos são instâncias de classes. Por exemplo, quando você cria uma variável com uma string, você está criando um objeto do tipo  string.\n",
    "### Objetos possuem atributos (características) e métodos (ações que podem ser aplicadas)."
   ]
  }
 ],
 "metadata": {
  "interpreter": {
   "hash": "e128d7d07d305668aa4da102c9cd05a8429cdf548db441d9d3ffab72a864069a"
  },
  "kernelspec": {
   "display_name": "Python 3.8.8 64-bit ('base': conda)",
   "name": "python3"
  },
  "language_info": {
   "codemirror_mode": {
    "name": "ipython",
    "version": 3
   },
   "file_extension": ".py",
   "mimetype": "text/x-python",
   "name": "python",
   "nbconvert_exporter": "python",
   "pygments_lexer": "ipython3",
   "version": "3.8.8"
  },
  "orig_nbformat": 4
 },
 "nbformat": 4,
 "nbformat_minor": 2
}
